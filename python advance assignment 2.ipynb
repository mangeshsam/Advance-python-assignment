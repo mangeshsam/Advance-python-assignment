{
 "cells": [
  {
   "cell_type": "markdown",
   "id": "e611101c",
   "metadata": {},
   "source": [
    "1. What is the relationship between classes and modules?"
   ]
  },
  {
   "cell_type": "markdown",
   "id": "fd6df862",
   "metadata": {},
   "source": [
    "Modules are collections of methods and constants. They cannot generate instances. Classes may generate instances (objects), and have per-instance state (instance variables)."
   ]
  },
  {
   "cell_type": "markdown",
   "id": "403d6169",
   "metadata": {},
   "source": [
    "2. How do you make instances and classes?"
   ]
  },
  {
   "cell_type": "markdown",
   "id": "aa73cd77",
   "metadata": {},
   "source": [
    " Classes can be cretaed with the help of keyword class. To create instances of a class, we can call the class using class name and pass in whatever arguments its init method accepts."
   ]
  },
  {
   "cell_type": "markdown",
   "id": "18b32d29",
   "metadata": {},
   "source": [
    "3. Where and how should be class attributes created?"
   ]
  },
  {
   "cell_type": "markdown",
   "id": "0f692d78",
   "metadata": {},
   "source": [
    "Any variable that is bound in a class is a class attribute. Any function defined within a class is a method. Methods receive an instance of the class, conventionally called self, as the first argument. "
   ]
  },
  {
   "cell_type": "code",
   "execution_count": 1,
   "id": "9fabe7bc",
   "metadata": {},
   "outputs": [],
   "source": [
    "class MyClass:\n",
    "    attr1 = 10        \n",
    "    attr2 = \"hello\"\n",
    "\n",
    "    def method1(self):\n",
    "        print( MyClass.attr1)  \n",
    "\n",
    "    def method2(self):\n",
    "        print( MyClass.attr2)  \n",
    "\n",
    "    def method3(self, text):\n",
    "        self.text = text      \n",
    "        print( text, self.text)  \n",
    "    method4 = method3"
   ]
  },
  {
   "cell_type": "markdown",
   "id": "d07d00ae",
   "metadata": {},
   "source": [
    "4. Where and how are instance attributes created?"
   ]
  },
  {
   "cell_type": "markdown",
   "id": "de1d2443",
   "metadata": {},
   "source": [
    " Instance attributes are attributes or properties attached to an instance of a class. Instance attributes are defined in the constructor."
   ]
  },
  {
   "cell_type": "markdown",
   "id": "c2f3da02",
   "metadata": {},
   "source": [
    "5. What does the term \"self\" in a Python class mean?"
   ]
  },
  {
   "cell_type": "markdown",
   "id": "f35d8d00",
   "metadata": {},
   "source": [
    "self represents the instance of the class. By using the “self” keyword we can access the attributes and methods of the class in python. It binds the attributes with the given arguments."
   ]
  },
  {
   "cell_type": "markdown",
   "id": "a44fc094",
   "metadata": {},
   "source": [
    "6. How does a Python class handle operator overloading?"
   ]
  },
  {
   "cell_type": "markdown",
   "id": "067e6139",
   "metadata": {},
   "source": [
    "The operator overloading in Python means provide extended meaning beyond their predefined operational meaning. Such as, we use the \"+\" operator for adding two integers as well as joining two strings or merging two lists. We can achieve this as the \"+\" operator is overloaded by the \"int\" class and \"str\" class. The user can notice that the same inbuilt operator or function is showing different behaviour for objects of different classes. This process is known as operator overloading. "
   ]
  },
  {
   "cell_type": "code",
   "execution_count": 2,
   "id": "6b82bba9",
   "metadata": {},
   "outputs": [
    {
     "name": "stdout",
     "output_type": "stream",
     "text": [
      "(44, 34)\n"
     ]
    }
   ],
   "source": [
    "class complex_1:  \n",
    "    def __init__(self, X, Y):  \n",
    "        self.X = X  \n",
    "        self.Y = Y  \n",
    "   \n",
    "    # Now, we will add the two objects  \n",
    "    def __add__(self, U):  \n",
    "        return self.X + U.X, self.Y + U.Y  \n",
    "\n",
    "\n",
    "    \n",
    "Object_1 = complex_1(23, 12)  \n",
    "Object_2 = complex_1(21, 22)  \n",
    "Object_3 = Object_1 + Object_2  \n",
    "print (Object_3)  "
   ]
  },
  {
   "cell_type": "markdown",
   "id": "80d7783b",
   "metadata": {},
   "source": [
    "7. When do you consider allowing operator overloading of your classes?"
   ]
  },
  {
   "cell_type": "markdown",
   "id": "66a94d4d",
   "metadata": {},
   "source": [
    "Suppose that we have two objects which are a physical representation of a class (user-defined data type) and we have to add two objects with binary '+' operator it throws an error, because compiler don't know how to add two objects. So we define a method for an operator and that process is called operator overloading."
   ]
  },
  {
   "cell_type": "markdown",
   "id": "2a94ec13",
   "metadata": {},
   "source": [
    "8. What is the most popular form of operator overloading?"
   ]
  },
  {
   "cell_type": "markdown",
   "id": "a558cad2",
   "metadata": {},
   "source": [
    " A very popular and convenient example is the Addition (+) operator. the '+' operator operates on two numbers and the same operator operates on two strings. It performs “Addition” on numbers whereas it performs “Concatenation” on strings."
   ]
  },
  {
   "cell_type": "markdown",
   "id": "84ca8ba2",
   "metadata": {},
   "source": [
    "9. What are the two most important concepts to grasp in order to comprehend Python OOP code?"
   ]
  },
  {
   "cell_type": "markdown",
   "id": "feea983a",
   "metadata": {},
   "source": [
    "The two most important concepts to grasp in order to comprehend Python OOP code are polymorphism and inheritence."
   ]
  },
  {
   "cell_type": "code",
   "execution_count": 6,
   "id": "8398065a",
   "metadata": {},
   "outputs": [
    {
     "name": "stdout",
     "output_type": "stream",
     "text": [
      "this is a msg to mangesh\n",
      "this is a msg to xyz\n"
     ]
    }
   ],
   "source": [
    "class mangesh:\n",
    "    def msg(self):\n",
    "        print(\"this is a msg to mangesh\")\n",
    "          \n",
    "class xyz:  \n",
    "    def msg(self):\n",
    "        print(\"this is a msg to xyz\")     \n",
    "\n",
    "def test(notes):\n",
    "    notes.msg()\n",
    "\n",
    "i = mangesh()\n",
    "x = xyz()\n",
    "\n",
    "test(i)\n",
    "test(x)"
   ]
  },
  {
   "cell_type": "code",
   "execution_count": 7,
   "id": "31c5542e",
   "metadata": {},
   "outputs": [
    {
     "name": "stdout",
     "output_type": "stream",
     "text": [
      "iNeuron Company was established in 2018\n"
     ]
    }
   ],
   "source": [
    "class Ineuron:\n",
    "    company_website = 'https://ineuron.ai/'\n",
    "    name = 'iNeuron'\n",
    " \n",
    "    def contact_details(self):\n",
    "        print('Contact us at ', self.company_website)\n",
    "\n",
    "class Datascience(Ineuron):\n",
    "    def __init__(self):\n",
    "        self.year_of_establishment= 2018\n",
    " \n",
    "    def est_details(self):\n",
    "        print('{0} Company was established in {1}'\n",
    "              .format(self.name,self.year_of_establishment))\n",
    " \n",
    "ds = Datascience()\n",
    "ds.est_details()"
   ]
  },
  {
   "cell_type": "code",
   "execution_count": null,
   "id": "5f7a9bb0",
   "metadata": {},
   "outputs": [],
   "source": []
  }
 ],
 "metadata": {
  "kernelspec": {
   "display_name": "Python 3 (ipykernel)",
   "language": "python",
   "name": "python3"
  },
  "language_info": {
   "codemirror_mode": {
    "name": "ipython",
    "version": 3
   },
   "file_extension": ".py",
   "mimetype": "text/x-python",
   "name": "python",
   "nbconvert_exporter": "python",
   "pygments_lexer": "ipython3",
   "version": "3.11.5"
  }
 },
 "nbformat": 4,
 "nbformat_minor": 5
}
