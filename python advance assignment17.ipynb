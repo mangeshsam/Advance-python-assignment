{
 "cells": [
  {
   "cell_type": "markdown",
   "id": "968fc2f6",
   "metadata": {},
   "source": [
    "Q1. Explain the difference between greedy and non-greedy syntax with visual terms in as few words as possible. What is the bare minimum effort required to transform a greedy pattern into a non-greedy one? What characters or characters can you introduce or change?"
   ]
  },
  {
   "cell_type": "markdown",
   "id": "1076f973",
   "metadata": {},
   "source": [
    "So the difference between the greedy and the non-greedy match is the following: The greedy match will try to match as many repetitions of the quantified pattern as possible. The non-greedy match will try to match as few repetitions of the quantified pattern as possible.\n",
    "\n",
    "the bare minimum effort required to transform a greedy pattern into a non-greedy one can be just implemented by using a singlle character. The ? operand makes match non-greedy. E.g. .* is greedy while .*? isn't."
   ]
  },
  {
   "cell_type": "markdown",
   "id": "d9c0a841",
   "metadata": {},
   "source": [
    "Q2. When exactly does greedy versus non-greedy make a difference?  What if you're looking for a non-greedy match but the only one available is greedy?"
   ]
  },
  {
   "cell_type": "markdown",
   "id": "0b5e7eb7",
   "metadata": {},
   "source": [
    "So the difference between the greedy and the non-greedy match is the following: The greedy match will try to match as many repetitions of the quantified pattern as possible. The non-greedy match will try to match as few repetitions of the quantified pattern as possible.\n",
    "\n",
    "example: To make the quantifier non-greedy you simply follow it with a '?' the first 3 characters and then the following 'ab' is matched. greedy by appending a '?' symbol to them: *?, +?, ??, {n,m}?, and {n,}?.\n",
    "\n",
    "if we're looking for a non-greedy match but the only one available is greedy that will result in matching the shortest possible string."
   ]
  },
  {
   "cell_type": "markdown",
   "id": "658f4261",
   "metadata": {},
   "source": [
    "Q3. In a simple match of a string, which looks only for one match and does not do any replacement, is the use of a nontagged group likely to make any practical difference?"
   ]
  },
  {
   "cell_type": "markdown",
   "id": "2f344d7b",
   "metadata": {},
   "source": [
    "Yes it might do."
   ]
  },
  {
   "cell_type": "markdown",
   "id": "d672f2c2",
   "metadata": {},
   "source": [
    "Q4. Describe a scenario in which using a nontagged category would have a significant impact on the program's outcomes.\n",
    "\n"
   ]
  },
  {
   "cell_type": "code",
   "execution_count": 1,
   "id": "c4e772b0",
   "metadata": {},
   "outputs": [
    {
     "name": "stdout",
     "output_type": "stream",
     "text": [
      "['1', '1', '4', '1', '8', '8', '6']\n",
      "['11', '4', '1886']\n"
     ]
    }
   ],
   "source": [
    "import re\n",
    " \n",
    "# \\d is equivalent to [0-9].\n",
    "p = re.compile('\\d')\n",
    "print(p.findall(\"I went to him at 11 A.M. on 4th July 1886\"))\n",
    " \n",
    "# \\d+ will match a group on [0-9], group of one or greater size\n",
    "p = re.compile('\\d+')\n",
    "print(p.findall(\"I went to him at 11 A.M. on 4th July 1886\"))\n"
   ]
  },
  {
   "cell_type": "markdown",
   "id": "de08aaf7",
   "metadata": {},
   "source": [
    "Q5. Unlike a normal regex pattern, a look-ahead condition does not consume the characters it examines. Describe a situation in which this could make a difference in the results of your programme."
   ]
  },
  {
   "cell_type": "markdown",
   "id": "3c7e1568",
   "metadata": {},
   "source": [
    "While the order of lookaheads doesn't matter on a logical level, we should keep in mind that it may matter for matching speed. If one lookahead is more likely to fail than the other two, it makes little sense to place it in third position and expend a lot of energy checking the first two conditions. Make it first, so that if we're going to fail, we fail early—an application of the design to fail principle from the regex style guide."
   ]
  },
  {
   "cell_type": "markdown",
   "id": "5e5878e2",
   "metadata": {},
   "source": [
    "Q6. In standard expressions, what is the difference between positive look-ahead and negative look- ahead?\n",
    "\n"
   ]
  },
  {
   "cell_type": "markdown",
   "id": "dc866bf8",
   "metadata": {},
   "source": [
    " Positive lookahead: (?= «pattern») matches if pattern matches what comes after the current location in the input string.\n",
    "\n",
    "Negative lookahead: (?! «pattern») matches if pattern does not match what comes after the current location in the input string."
   ]
  },
  {
   "cell_type": "markdown",
   "id": "928369a9",
   "metadata": {},
   "source": [
    "Q7. What is the benefit of referring to groups by name rather than by number in a standard expression?\n",
    "\n"
   ]
  },
  {
   "cell_type": "markdown",
   "id": "e8d5c0e5",
   "metadata": {},
   "source": [
    "The advantage to named groups is that it adds readability and understandability to the code, so that we can easily see what part of a regular expression match is being referenced."
   ]
  },
  {
   "cell_type": "markdown",
   "id": "732223ca",
   "metadata": {},
   "source": [
    "Q8. Can you identify repeated items within a target string using named groups, as in \"The cow jumped over the moon\"?\n",
    "\n"
   ]
  },
  {
   "cell_type": "markdown",
   "id": "dba4394a",
   "metadata": {},
   "source": [
    " In this particular scenario it may be possible by checking it wu=ith the + tag in regex go check for one or more occurances."
   ]
  },
  {
   "cell_type": "markdown",
   "id": "ec625822",
   "metadata": {},
   "source": [
    "Q9. When parsing a string, what is at least one thing that the Scanner interface does for you that the re.findall feature does not?"
   ]
  },
  {
   "cell_type": "markdown",
   "id": "df98d612",
   "metadata": {},
   "source": [
    "search() method is able to find a pattern from any position of the string. The re. It searches from start or end of the given string. If we use method findall to search for a pattern in a given string it will return all occurrences of the pattern."
   ]
  },
  {
   "cell_type": "markdown",
   "id": "375018c9",
   "metadata": {},
   "source": [
    "Q10. Does a scanner object have to be named scanner?"
   ]
  },
  {
   "cell_type": "markdown",
   "id": "cd578711",
   "metadata": {},
   "source": [
    "The scan module is part of the microscopy package. It provides a framework for multidimensional scanning routines while acquiring data. Not madatory to keep the same name."
   ]
  },
  {
   "cell_type": "code",
   "execution_count": null,
   "id": "b17e9b0b",
   "metadata": {},
   "outputs": [],
   "source": []
  }
 ],
 "metadata": {
  "kernelspec": {
   "display_name": "Python 3 (ipykernel)",
   "language": "python",
   "name": "python3"
  },
  "language_info": {
   "codemirror_mode": {
    "name": "ipython",
    "version": 3
   },
   "file_extension": ".py",
   "mimetype": "text/x-python",
   "name": "python",
   "nbconvert_exporter": "python",
   "pygments_lexer": "ipython3",
   "version": "3.11.5"
  }
 },
 "nbformat": 4,
 "nbformat_minor": 5
}
