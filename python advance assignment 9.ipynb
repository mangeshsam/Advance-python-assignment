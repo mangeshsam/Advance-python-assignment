{
 "cells": [
  {
   "cell_type": "markdown",
   "id": "f5bd0aec",
   "metadata": {},
   "source": [
    "1. In Python 3.X, what are the names and functions of string object types?"
   ]
  },
  {
   "cell_type": "markdown",
   "id": "04fb4a5d",
   "metadata": {},
   "source": [
    "There are many string functions some of them are mentioned below isascii(), islower(), isdigit(), upper(), lower(), lstrip(). rstrip()\n",
    "\n",
    "basically after definign the string we can use (dot) and them tab in jupyter notebook or ctrl+space in colab to access these we don't need to remember them."
   ]
  },
  {
   "cell_type": "markdown",
   "id": "dfd54aef",
   "metadata": {},
   "source": [
    "2. How do the string forms in Python 3.X vary in terms of operations?"
   ]
  },
  {
   "cell_type": "markdown",
   "id": "983c66ef",
   "metadata": {},
   "source": [
    "The type can be used with format codes just add a % symbol before them :\n",
    "\n",
    "‘d’ for integers\n",
    "‘f’ for floating-point numbers\n",
    "‘b’ for binary numbers\n",
    "‘o’ for octal numbers\n",
    "‘x’ for octal hexadecimal numbers\n",
    "‘s’ for string\n",
    "‘e’ for floating-point in an exponent format"
   ]
  },
  {
   "cell_type": "markdown",
   "id": "22a3fa2a",
   "metadata": {},
   "source": [
    "3. In 3.X, how do you put non-ASCII Unicode characters in a string?"
   ]
  },
  {
   "cell_type": "markdown",
   "id": "7b160f0f",
   "metadata": {},
   "source": [
    " In order to use non-ASCII characters, Python requires explicit encoding and decoding of strings into Unicode. we can check using the ascii value using ord()"
   ]
  },
  {
   "cell_type": "code",
   "execution_count": 1,
   "id": "3c6a779d",
   "metadata": {},
   "outputs": [
    {
     "data": {
      "text/plain": [
       "97"
      ]
     },
     "execution_count": 1,
     "metadata": {},
     "output_type": "execute_result"
    }
   ],
   "source": [
    "ord(\"a\")"
   ]
  },
  {
   "cell_type": "code",
   "execution_count": 2,
   "id": "5fbed19a",
   "metadata": {},
   "outputs": [
    {
     "data": {
      "text/plain": [
       "33"
      ]
     },
     "execution_count": 2,
     "metadata": {},
     "output_type": "execute_result"
    }
   ],
   "source": [
    "ord(\"!\")"
   ]
  },
  {
   "cell_type": "markdown",
   "id": "ae393328",
   "metadata": {},
   "source": [
    "4. In Python 3.X, what are the key differences between text-mode and binary-mode files?"
   ]
  },
  {
   "cell_type": "markdown",
   "id": "c5a0d431",
   "metadata": {},
   "source": [
    "The major difference between these two is that a text file contains textual information in the form of alphabets, digits and special characters or symbols. On the other hand, a binary file contains bytes or a compiled version of a text file."
   ]
  },
  {
   "cell_type": "markdown",
   "id": "b4ea2c57",
   "metadata": {},
   "source": [
    "5. How can you interpret a Unicode text file containing text encoded in a different encoding than your platform's default?"
   ]
  },
  {
   "cell_type": "markdown",
   "id": "12133577",
   "metadata": {},
   "source": [
    "we can do it by hit and trieal trying different types of ending like utf-8, utf-16 etc."
   ]
  },
  {
   "cell_type": "markdown",
   "id": "22c3e582",
   "metadata": {},
   "source": [
    "6. What is the best way to make a Unicode text file in a particular encoding format?"
   ]
  },
  {
   "cell_type": "code",
   "execution_count": 5,
   "id": "74f59b6b",
   "metadata": {},
   "outputs": [
    {
     "name": "stdout",
     "output_type": "stream",
     "text": [
      "ʑʒʓʔʕʗʘʙʚʛʜʝʞ\n"
     ]
    }
   ],
   "source": [
    "unicode_text = u'ʑʒʓʔʕʗʘʙʚʛʜʝʞ'\n",
    "encoded_unicode = unicode_text.encode(\"utf8\")\n",
    "\n",
    "with open(\"textfile.txt\", \"wb\") as a_file:\n",
    "    a_file.write(encoded_unicode)\n",
    "\n",
    "with open(\"textfile.txt\", \"rb\") as a_file:\n",
    "    contents = a_file.read()\n",
    "\n",
    "decoded_text = contents.decode(\"utf-8\")\n",
    "print(decoded_text)\n"
   ]
  },
  {
   "cell_type": "markdown",
   "id": "155c9aca",
   "metadata": {},
   "source": [
    "Q7. What qualifies ASCII text as a form of Unicode text?"
   ]
  },
  {
   "cell_type": "markdown",
   "id": "445a97d7",
   "metadata": {},
   "source": [
    "The first 128 Unicode code points represent the ASCII characters, which means that any ASCII text is also a UTF-8 text. As long as it contains no code points in the reserved range U+D800–U+DFFF, a UCS-2 text is valid UTF-16 text.\n",
    "\n",
    "Encoding formats: UTF-8; UTF-16; GB18030;\n",
    "\n",
    "Standard: Unicode Standard\n",
    "\n",
    "Alias(es): Universal Coded Character Set (UCS)"
   ]
  },
  {
   "cell_type": "markdown",
   "id": "76b788c0",
   "metadata": {},
   "source": [
    "Q8. How much of an effect does the change in string types in Python 3.X have on your code?"
   ]
  },
  {
   "cell_type": "markdown",
   "id": "70944f06",
   "metadata": {},
   "source": [
    "One of the most noticeable changes in Python 3.0 is the mutation of string object types. In a nutshell, 2. X's str and unicode types have morphed into 3. X's bytes and str types, and a new mutable bytearray type has been added."
   ]
  },
  {
   "cell_type": "code",
   "execution_count": null,
   "id": "d3316dda",
   "metadata": {},
   "outputs": [],
   "source": []
  }
 ],
 "metadata": {
  "kernelspec": {
   "display_name": "Python 3 (ipykernel)",
   "language": "python",
   "name": "python3"
  },
  "language_info": {
   "codemirror_mode": {
    "name": "ipython",
    "version": 3
   },
   "file_extension": ".py",
   "mimetype": "text/x-python",
   "name": "python",
   "nbconvert_exporter": "python",
   "pygments_lexer": "ipython3",
   "version": "3.11.5"
  }
 },
 "nbformat": 4,
 "nbformat_minor": 5
}
