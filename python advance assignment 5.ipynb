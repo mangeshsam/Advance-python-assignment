{
 "cells": [
  {
   "cell_type": "markdown",
   "id": "12bd1f21",
   "metadata": {},
   "source": [
    "1. What is the meaning of multiple inheritance?"
   ]
  },
  {
   "cell_type": "raw",
   "id": "1f4bde82",
   "metadata": {},
   "source": [
    "Multiple inheritance means that a subclass can inherit from two or more superclasses."
   ]
  },
  {
   "cell_type": "code",
   "execution_count": 1,
   "id": "cd34d070",
   "metadata": {},
   "outputs": [
    {
     "name": "stdout",
     "output_type": "stream",
     "text": [
      "multi_task\n",
      "Name: ashish\n"
     ]
    }
   ],
   "source": [
    "class Ineuron:\n",
    "    company_website = 'https://ineuron.ai/'\n",
    "    name = 'iNeuron'\n",
    " \n",
    "    def contact_details(self):\n",
    "        print('Contact us at ', self.company_website)\n",
    "\n",
    "class OS:\n",
    "    multi_task = True\n",
    "    os_name = 'Windows OS'\n",
    "    name = \"ashish\"\n",
    "\n",
    "class windows(OS, Ineuron):\n",
    "    def __init__(self):\n",
    "        if self.multi_task is True:\n",
    "            print('multi_task')\n",
    "        print('Name: {}'.format(self.name))\n",
    "\n",
    "windows = windows() "
   ]
  },
  {
   "cell_type": "markdown",
   "id": "a14170dd",
   "metadata": {},
   "source": [
    "2. What is the concept of delegation?"
   ]
  },
  {
   "cell_type": "raw",
   "id": "917e5c91",
   "metadata": {},
   "source": [
    " Delegation is an object oriented technique (also called a design pattern). Let's say we have an object x and want to change the behaviour of just one of its methods. we can create a new class that provides a new implementation of the method we're interested in changing and delegates all other methods to the corresponding method of x.\n",
    "\n",
    "Delegation can be imlemented easily. For example, the following class implements a class that behaves like a file but converts all written data to uppercase:"
   ]
  },
  {
   "cell_type": "code",
   "execution_count": 2,
   "id": "a975ccbe",
   "metadata": {},
   "outputs": [],
   "source": [
    "class UpperOut:\n",
    "    def __init__(self, outfile):\n",
    "        self.__outfile = outfile\n",
    "    def write(self, s):\n",
    "        self.__outfile.write(s.upper())\n",
    "    def __getattr__(self, name):\n",
    "        return getattr(self.__outfile, name)"
   ]
  },
  {
   "cell_type": "markdown",
   "id": "5ebe4332",
   "metadata": {},
   "source": [
    "3. What is the concept of composition?"
   ]
  },
  {
   "cell_type": "raw",
   "id": "a9907ea8",
   "metadata": {},
   "source": [
    "It is one of the fundamental concepts of Object-Oriented Programming. In this concept, we describe a class that references to one or more objects of other classes as an Instance variable. Here, by using the class name or by creating the object we can access the members of one class inside another class. It enables creating complex types by combining objects of different classes. It means that a class Composite can contain an object of another class Component. This type of relationship is known as Has-A Relation.\n",
    "\n",
    "class A : # variables of class A # methods of class A ... ... class B : # by using \"obj\" we can access member's of class A. obj = A() # variables of class B # methods of class B ... ..."
   ]
  },
  {
   "cell_type": "markdown",
   "id": "9a56c38a",
   "metadata": {},
   "source": [
    "4. What are bound methods and how do we use them?"
   ]
  },
  {
   "cell_type": "raw",
   "id": "fb461754",
   "metadata": {},
   "source": [
    "A bound method is the one which is dependent on the instance of the class as the first argument. It passes the instance as the first argument which is used to access the variables and functions. In Python 3 and newer versions of python, all functions in the class are by default bound methods."
   ]
  },
  {
   "cell_type": "markdown",
   "id": "daa741ca",
   "metadata": {},
   "source": [
    "5. What is the purpose of pseudoprivate attributes?"
   ]
  },
  {
   "cell_type": "raw",
   "id": "90af9d40",
   "metadata": {},
   "source": [
    "Pseudoprivate attributes are useful in larger frameworks or tools, both to avoid introducing new method names that might accidentally hide definitions elsewhere in the class tree and to reduce the chance of internal methods being replaced by names defined lower in the tree."
   ]
  },
  {
   "cell_type": "code",
   "execution_count": 4,
   "id": "74f24752",
   "metadata": {},
   "outputs": [
    {
     "name": "stdout",
     "output_type": "stream",
     "text": [
      "mangesh\n",
      "mangesh\n"
     ]
    }
   ],
   "source": [
    "class Info:\n",
    "    def __init__(self):\n",
    "        self.__name = 'mangesh'\n",
    "    def __say(self):\n",
    "        return self.__name\n",
    "a = Info()\n",
    "print(a._Info__name) \n",
    "print(a._Info__say()) "
   ]
  },
  {
   "cell_type": "code",
   "execution_count": null,
   "id": "c619b290",
   "metadata": {},
   "outputs": [],
   "source": []
  },
  {
   "cell_type": "code",
   "execution_count": null,
   "id": "06b0f1ea",
   "metadata": {},
   "outputs": [],
   "source": []
  },
  {
   "cell_type": "code",
   "execution_count": null,
   "id": "d79fad7b",
   "metadata": {},
   "outputs": [],
   "source": []
  }
 ],
 "metadata": {
  "kernelspec": {
   "display_name": "Python 3 (ipykernel)",
   "language": "python",
   "name": "python3"
  },
  "language_info": {
   "codemirror_mode": {
    "name": "ipython",
    "version": 3
   },
   "file_extension": ".py",
   "mimetype": "text/x-python",
   "name": "python",
   "nbconvert_exporter": "python",
   "pygments_lexer": "ipython3",
   "version": "3.11.5"
  }
 },
 "nbformat": 4,
 "nbformat_minor": 5
}
