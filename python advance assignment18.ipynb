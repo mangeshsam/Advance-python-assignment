{
 "cells": [
  {
   "cell_type": "markdown",
   "id": "612001f0",
   "metadata": {},
   "source": [
    "Q1. Describe the differences between text and binary files in a single paragraph."
   ]
  },
  {
   "cell_type": "markdown",
   "id": "49536edf",
   "metadata": {},
   "source": [
    "Binary file contains the data in the form of 0 and 1(series of binary values) and text files contains the data in the form of stream of characters.In general binary files are identified as executable files. But binary files are not in readable form as like text file."
   ]
  },
  {
   "cell_type": "markdown",
   "id": "746100bb",
   "metadata": {},
   "source": [
    "Q2. What are some scenarios where using text files will be the better option? When would you like to use binary files instead of text files?\n",
    "\n"
   ]
  },
  {
   "cell_type": "markdown",
   "id": "4982aba6",
   "metadata": {},
   "source": [
    "text files are commonly used for storage of information. They avoid some of the problems encountered with other file formats, such as endianness, padding bytes, or differences in the number of bytes in a machine word.\n",
    "\n",
    "Binary files are used to store data more compactly. In the text file, a special character whose ASCII value is 26 inserted after the last character to mark the end of file. In the binary file no such character is present. Files keep track of the end of the file from the number of characters present.\n",
    "\n",
    "\n"
   ]
  },
  {
   "cell_type": "markdown",
   "id": "9fc397d5",
   "metadata": {},
   "source": [
    "Q3. What are some of the issues with using binary operations to read and write a Python integer directly to disc?\n",
    "\n"
   ]
  },
  {
   "cell_type": "markdown",
   "id": "e623a46b",
   "metadata": {},
   "source": [
    "its acutally easy to read a write abinary file with rb and wb mode Alternatively we can use open() and close() can be called explicitly. However, this method requires us to perform error handling ourself, that is, ensure that the file is always closed, even if there is an error during writing. So, using the “with” statement is better in this regard as it will automatically close the file when the block ends."
   ]
  },
  {
   "cell_type": "markdown",
   "id": "7baafe1f",
   "metadata": {},
   "source": [
    "Q4. Describe a benefit of using the with keyword instead of explicitly opening a file.\n",
    "\n"
   ]
  },
  {
   "cell_type": "markdown",
   "id": "d19bf599",
   "metadata": {},
   "source": [
    "The with statement itself ensures proper acquisition and release of resources. An exception during the file."
   ]
  },
  {
   "cell_type": "markdown",
   "id": "9f2be4fb",
   "metadata": {},
   "source": [
    "Q5. Does Python have the trailing newline while reading a line of text? Does Python append a newline when you write a line of text?\n",
    "\n"
   ]
  },
  {
   "cell_type": "markdown",
   "id": "b4bbc9ca",
   "metadata": {},
   "source": [
    "Python readline() is a file method that helps to read one complete line from the given file. It has a trailing newline (“\\n”) at the end of the string returned. for the second part python uses a backslash escape, \\n , which Python converts to a newline character in string literals. It just concatenates your string, name , and that newline character into a bigger string, which gets written to the file."
   ]
  },
  {
   "cell_type": "markdown",
   "id": "e70dd599",
   "metadata": {},
   "source": [
    "Q6. What file operations enable for random-access operation?\n",
    "\n"
   ]
  },
  {
   "cell_type": "markdown",
   "id": "8fba6155",
   "metadata": {},
   "source": [
    " wecan set offsets in file But if we want to access data in a random fashion, then Python gives us seek() and tell() functions to do so."
   ]
  },
  {
   "cell_type": "markdown",
   "id": "5e4b4bfb",
   "metadata": {},
   "source": [
    "Q7. When do you think you'll use the struct package the most?\n",
    "\n"
   ]
  },
  {
   "cell_type": "markdown",
   "id": "81c2cc66",
   "metadata": {},
   "source": [
    "The struct module in Python is used to convert native Python data types such as strings and numbers into a string of bytes and vice versa. What this means is that users can parse binary files of data stored in C structs in Python.\n",
    "\n",
    "It is used mostly for handling binary data stored in files or from network connections, among other sources.\n",
    "\n"
   ]
  },
  {
   "cell_type": "markdown",
   "id": "39c68950",
   "metadata": {},
   "source": [
    "Q8. When is pickling the best option?\n",
    "\n",
    "\n",
    "\n",
    "\n",
    "\n"
   ]
  },
  {
   "cell_type": "markdown",
   "id": "f93e150d",
   "metadata": {},
   "source": [
    "Answer: The Python pickle module is a better choice for all the remaining use cases. If we don't need a human-readable format or a standard interoperable format, or if we need to serialize custom objects, then go with pickle .\n"
   ]
  },
  {
   "cell_type": "markdown",
   "id": "221d25b7",
   "metadata": {},
   "source": [
    "Q9. When will it be best to use the shelve package?\n"
   ]
  },
  {
   "cell_type": "markdown",
   "id": "a953f800",
   "metadata": {},
   "source": [
    "Answer: The shelve module implements persistent storage for arbitrary Python objects which can be pickled, using a dictionary-like API. The shelve module can be used as a simple persistent storage option for Python objects when a relational database is overkill.\n"
   ]
  },
  {
   "cell_type": "markdown",
   "id": "a1935c89",
   "metadata": {},
   "source": [
    "Q10. What is a special restriction when using the shelve package, as opposed to using other data dictionaries?\n"
   ]
  },
  {
   "cell_type": "markdown",
   "id": "1c455bc1",
   "metadata": {},
   "source": [
    "Answer: The shelf dictionary has certain restrictions. Only string data type can be used as key in this special dictionary object, whereas any picklable Python object can be used as value."
   ]
  },
  {
   "cell_type": "code",
   "execution_count": null,
   "id": "2e801f5d",
   "metadata": {},
   "outputs": [],
   "source": []
  }
 ],
 "metadata": {
  "kernelspec": {
   "display_name": "Python 3 (ipykernel)",
   "language": "python",
   "name": "python3"
  },
  "language_info": {
   "codemirror_mode": {
    "name": "ipython",
    "version": 3
   },
   "file_extension": ".py",
   "mimetype": "text/x-python",
   "name": "python",
   "nbconvert_exporter": "python",
   "pygments_lexer": "ipython3",
   "version": "3.11.5"
  }
 },
 "nbformat": 4,
 "nbformat_minor": 5
}
