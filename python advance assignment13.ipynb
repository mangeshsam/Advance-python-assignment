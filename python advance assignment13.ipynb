{
 "cells": [
  {
   "cell_type": "markdown",
   "id": "a9ed16e7",
   "metadata": {},
   "source": [
    "1. Can you create a programme or function that employs both positive and negative indexing? Is there any repercussion if you do so?"
   ]
  },
  {
   "cell_type": "markdown",
   "id": "ddc1ebc0",
   "metadata": {},
   "source": [
    "Below is a basic program showing positive and negative indexing. NO."
   ]
  },
  {
   "cell_type": "code",
   "execution_count": 1,
   "id": "e46dabd1",
   "metadata": {},
   "outputs": [
    {
     "name": "stdout",
     "output_type": "stream",
     "text": [
      "a\n",
      "r\n"
     ]
    }
   ],
   "source": [
    "def ashish():\n",
    "\n",
    "    greetings = \"ashish kumar\"\n",
    "    print(greetings[0]) \n",
    "    print(greetings[-1])\n",
    "\n",
    "ashish()"
   ]
  },
  {
   "cell_type": "markdown",
   "id": "69723a82",
   "metadata": {},
   "source": [
    "Q2. What is the most effective way of starting with 1,000 elements in a Python list? Assume that all elements should be set to the same value."
   ]
  },
  {
   "cell_type": "markdown",
   "id": "c636f802",
   "metadata": {},
   "source": [
    "list comprehension and * operator are fastest followed by while and for loop for loop in list."
   ]
  },
  {
   "cell_type": "code",
   "execution_count": 2,
   "id": "853961a5",
   "metadata": {},
   "outputs": [
    {
     "name": "stdout",
     "output_type": "stream",
     "text": [
      "Average time taken by for loop: 0.01950307369232178\n",
      "Average time taken by while loop: 0.029143593311309814\n",
      "Average time taken by list comprehensions: 0.007189099788665772\n",
      "Average time taken by * operator: 0.00022521495819091797\n"
     ]
    }
   ],
   "source": [
    "# import time module to calculate times\n",
    "import time\n",
    "forLoopTime = []\n",
    "whileLoopTime = []\n",
    "listComprehensionTime = []\n",
    "starOperatorTime = []\n",
    "# repeat the process for 500 times and calculate average of times taken.\n",
    "for k in range(500):\n",
    "    # start time\n",
    "    start = time.time()\n",
    "    # declare empty list\n",
    "    a = []\n",
    "    # run a for loop for 10000 times\n",
    "    for i in range(10000):\n",
    "        a.append(0)\n",
    "    # stop time\n",
    "    stop = time.time()\n",
    "    forLoopTime.append(stop-start)\n",
    "    # start time\n",
    "    start = time.time()\n",
    "    # declare an empty list\n",
    "    a = []\n",
    "    i = 0\n",
    "    # run a for loop 10000 times\n",
    "    while(i<10000):\n",
    "        a.append(0)\n",
    "        i+= 1\n",
    "    stop = time.time()\n",
    "    whileLoopTime.append(stop-start)\n",
    "\n",
    "    start = time.time()\n",
    "    # list comprehension to initialize list\n",
    "    a = [0 for i in range(10000)]\n",
    "    stop = time.time()\n",
    "    listComprehensionTime.append(stop-start)\n",
    "\n",
    "    start = time.time()\n",
    "    # using the * operator\n",
    "    a = [0]*10000\n",
    "    stop = time.time()\n",
    "    starOperatorTime.append(stop-start)\n",
    "\n",
    "print(\"Average time taken by for loop: \" + str(sum(forLoopTime)/100))\n",
    "print(\"Average time taken by while loop: \" + str(sum(whileLoopTime)/100))\n",
    "print(\"Average time taken by list comprehensions: \" + str(sum(listComprehensionTime)/100))#runnerup\n",
    "print(\"Average time taken by * operator: \" + str(sum(starOperatorTime)/100))"
   ]
  },
  {
   "cell_type": "markdown",
   "id": "c7b92f81",
   "metadata": {},
   "source": [
    "3. How do you slice a list to get any other part while missing the rest? (For example, suppose you want to make a new list with the elements first, third, fifth, seventh, and so on.)"
   ]
  },
  {
   "cell_type": "code",
   "execution_count": 3,
   "id": "1ba4b437",
   "metadata": {},
   "outputs": [
    {
     "name": "stdout",
     "output_type": "stream",
     "text": [
      "[1, 3, 5, 7, 9, 11]\n"
     ]
    }
   ],
   "source": [
    "b = [1,2,3,4,5,6,7,8,9,10,11,12]\n",
    "print(b[::2])"
   ]
  },
  {
   "cell_type": "markdown",
   "id": "c1d41859",
   "metadata": {},
   "source": [
    "4. Explain the distinctions between indexing and slicing."
   ]
  },
  {
   "cell_type": "markdown",
   "id": "c05cd012",
   "metadata": {},
   "source": [
    "“Indexing” means referring to an element of an iterable by its position within the iterable. “Slicing” means getting a subset of elements from an iterable based on their indices."
   ]
  },
  {
   "cell_type": "markdown",
   "id": "3fd0e378",
   "metadata": {},
   "source": [
    "5. What happens if one of the slicing expression's indexes is out of range?"
   ]
  },
  {
   "cell_type": "markdown",
   "id": "81ec92e7",
   "metadata": {},
   "source": [
    " empty list comes"
   ]
  },
  {
   "cell_type": "code",
   "execution_count": 4,
   "id": "9eca1b4c",
   "metadata": {},
   "outputs": [
    {
     "name": "stdout",
     "output_type": "stream",
     "text": [
      "[]\n"
     ]
    }
   ],
   "source": [
    "b = [1,2,3,4,5,6,7,8,9,10,11,12]\n",
    "print(b[34:44:1])"
   ]
  },
  {
   "cell_type": "markdown",
   "id": "75c3fc8d",
   "metadata": {},
   "source": [
    "6. If you pass a list to a function, and if you want the function to be able to change the values of the list—so that the list is different after the function returns—what action should you avoid?"
   ]
  },
  {
   "cell_type": "markdown",
   "id": "ca007946",
   "metadata": {},
   "source": [
    "the list will change list are mutable but we can also prevent that by creating a deepcopy of it before."
   ]
  },
  {
   "cell_type": "markdown",
   "id": "ea80d69d",
   "metadata": {},
   "source": [
    "7. What is the concept of an unbalanced matrix?"
   ]
  },
  {
   "cell_type": "markdown",
   "id": "989a9685",
   "metadata": {},
   "source": [
    "A matrix is balanced if all cells in the matrix are balanced and a cell of the matrix is balanced if the number of cells in that matrix that are adjacent to that cell is strictly greater than the value written in this cell. .\n",
    "\n",
    "Input: N = 3, M = 3\n",
    "\n",
    "mat[][] = {{1, 2, 3},\n",
    "\n",
    "{4, 5, 6},\n",
    "\n",
    "{7, 8, 9}}\n",
    "\n",
    "Output: Unbalanced\n",
    "\n",
    "Explanation: Each cell of the given grid is not stable, so the overall grid is unbalanced."
   ]
  },
  {
   "cell_type": "markdown",
   "id": "9b59c66e",
   "metadata": {},
   "source": [
    "8. Why is it necessary to use either list comprehension or a loop to create arbitrarily large matrices?"
   ]
  },
  {
   "cell_type": "markdown",
   "id": "ec5a4a65",
   "metadata": {},
   "source": [
    "list comprehension or a loop specifically list comprehension can simplify our code, but if you put too much logic inside, they will instead become harder to read and understand. loop specifically are also fast as we have seen in previous questions using time."
   ]
  },
  {
   "cell_type": "code",
   "execution_count": null,
   "id": "35b554d9",
   "metadata": {},
   "outputs": [],
   "source": []
  }
 ],
 "metadata": {
  "kernelspec": {
   "display_name": "Python 3 (ipykernel)",
   "language": "python",
   "name": "python3"
  },
  "language_info": {
   "codemirror_mode": {
    "name": "ipython",
    "version": 3
   },
   "file_extension": ".py",
   "mimetype": "text/x-python",
   "name": "python",
   "nbconvert_exporter": "python",
   "pygments_lexer": "ipython3",
   "version": "3.11.5"
  }
 },
 "nbformat": 4,
 "nbformat_minor": 5
}
