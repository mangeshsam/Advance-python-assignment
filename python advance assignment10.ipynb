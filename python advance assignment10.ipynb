{
 "cells": [
  {
   "cell_type": "markdown",
   "id": "145cc9cc",
   "metadata": {},
   "source": [
    "Q1. What is the difference between getattr and getattribute?"
   ]
  },
  {
   "cell_type": "markdown",
   "id": "c9ee32ec",
   "metadata": {},
   "source": [
    "getattribute: Is used to retrieve an attribute from an instance. getattr: Is executed as the last resource when attribute is not found in an object."
   ]
  },
  {
   "cell_type": "markdown",
   "id": "2b9f5d9a",
   "metadata": {},
   "source": [
    "Q2. What is the difference between properties and descriptors?"
   ]
  },
  {
   "cell_type": "markdown",
   "id": "6eeb860c",
   "metadata": {},
   "source": [
    " Descriptors are a low-level mechanism that lets us hook into an object's attributes being accessed. Properties are a high-level application of this. that is, properties are implemented using descriptors."
   ]
  },
  {
   "cell_type": "markdown",
   "id": "4f30fd3f",
   "metadata": {},
   "source": [
    "Q3. What are the key differences in functionality between getattr and getattribute, as well as properties and descriptors?"
   ]
  },
  {
   "cell_type": "markdown",
   "id": "537828bb",
   "metadata": {},
   "source": [
    "A key difference between getattr and getattribute is that getattr is only invoked if the attribute wasn't found the usual ways. It's good for implementing a fallback for missing attributes and is probably the one of two you want."
   ]
  },
  {
   "cell_type": "code",
   "execution_count": null,
   "id": "57b6c14f",
   "metadata": {},
   "outputs": [],
   "source": []
  }
 ],
 "metadata": {
  "kernelspec": {
   "display_name": "Python 3 (ipykernel)",
   "language": "python",
   "name": "python3"
  },
  "language_info": {
   "codemirror_mode": {
    "name": "ipython",
    "version": 3
   },
   "file_extension": ".py",
   "mimetype": "text/x-python",
   "name": "python",
   "nbconvert_exporter": "python",
   "pygments_lexer": "ipython3",
   "version": "3.11.5"
  }
 },
 "nbformat": 4,
 "nbformat_minor": 5
}
