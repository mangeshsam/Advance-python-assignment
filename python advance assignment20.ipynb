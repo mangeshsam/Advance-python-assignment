{
 "cells": [
  {
   "cell_type": "markdown",
   "id": "9c0c77cd",
   "metadata": {},
   "source": [
    "Q1. Compare and contrast the float and Decimal classes' benefits and drawbacks."
   ]
  },
  {
   "cell_type": "markdown",
   "id": "d532dd26",
   "metadata": {},
   "source": [
    "Float stores an approximate value and decimal stores an exact value. In summary, exact values like money should use decimal, and approximate values like scientific measurements should use float. When multiplying a non integer and dividing by that same number, decimals lose precision while floats do not."
   ]
  },
  {
   "cell_type": "markdown",
   "id": "06134270",
   "metadata": {},
   "source": [
    "Q2. Decimal('1.200') and Decimal('1.2') are two objects to consider. In what sense are these the same object? Are these just two ways of representing the exact same value, or do they correspond to different internal states?"
   ]
  },
  {
   "cell_type": "markdown",
   "id": "1938ee61",
   "metadata": {},
   "source": [
    "the output of both od them will be same this is just a way of representing precision upto 3 decimal points basic mathematics can be seen here in below example. the deciam class while outputting the result rund off the value to 1.2 from 1.200"
   ]
  },
  {
   "cell_type": "code",
   "execution_count": 1,
   "id": "33dc5b75",
   "metadata": {},
   "outputs": [
    {
     "name": "stdout",
     "output_type": "stream",
     "text": [
      "1.2 1.2\n"
     ]
    }
   ],
   "source": [
    "c  = 1.200\n",
    "d = 1.2 \n",
    "print(c,d)"
   ]
  },
  {
   "cell_type": "markdown",
   "id": "d404f6e1",
   "metadata": {},
   "source": [
    "Q3. What happens if the equality of Decimal('1.200') and Decimal('1.2') is checked?"
   ]
  },
  {
   "cell_type": "markdown",
   "id": "6845d8cb",
   "metadata": {},
   "source": [
    " Float stores an approximate value and decimal stores an exact value"
   ]
  },
  {
   "cell_type": "code",
   "execution_count": 2,
   "id": "ef8a0dd0",
   "metadata": {},
   "outputs": [
    {
     "name": "stdout",
     "output_type": "stream",
     "text": [
      "1.2 1.2\n",
      "<class 'float'>\n"
     ]
    }
   ],
   "source": [
    "c  = 1.200\n",
    "d = 1.2 \n",
    "if c == d:\n",
    "    print(c,d)\n",
    "print(type(c))"
   ]
  },
  {
   "cell_type": "markdown",
   "id": "c1386cda",
   "metadata": {},
   "source": [
    "Q4. Why is it preferable to start a Decimal object with a string rather than a floating-point value?"
   ]
  },
  {
   "cell_type": "markdown",
   "id": "bb246b51",
   "metadata": {},
   "source": [
    "Because using floats for currency will just cause errors down the road. floats are NOT usable for representing real world values like money - not reliably, anyways."
   ]
  },
  {
   "cell_type": "code",
   "execution_count": 3,
   "id": "f1cbc909",
   "metadata": {},
   "outputs": [
    {
     "name": "stdout",
     "output_type": "stream",
     "text": [
      "0.142857\n",
      "0.1428571428571428571428571429\n"
     ]
    }
   ],
   "source": [
    "from decimal import *\n",
    "getcontext().prec = 6\n",
    "print(Decimal(1) / Decimal(7))\n",
    "getcontext().prec = 28\n",
    "print(Decimal(1) / Decimal(7))"
   ]
  },
  {
   "cell_type": "markdown",
   "id": "c9ae233e",
   "metadata": {},
   "source": [
    "Q5. In an arithmetic phrase, how simple is it to combine Decimal objects with integers?"
   ]
  },
  {
   "cell_type": "markdown",
   "id": "49197101",
   "metadata": {},
   "source": [
    "Shown below"
   ]
  },
  {
   "cell_type": "code",
   "execution_count": 4,
   "id": "7026d00d",
   "metadata": {},
   "outputs": [
    {
     "data": {
      "text/plain": [
       "1.6"
      ]
     },
     "execution_count": 4,
     "metadata": {},
     "output_type": "execute_result"
    }
   ],
   "source": [
    ".6 + 1"
   ]
  },
  {
   "cell_type": "markdown",
   "id": "158c9a2f",
   "metadata": {},
   "source": [
    "Q6. Can Decimal objects and floating-point values be combined easily?"
   ]
  },
  {
   "cell_type": "markdown",
   "id": "6440cdca",
   "metadata": {},
   "source": [
    "Decimal objects cannot generally be combined with floats or instances of fractions."
   ]
  },
  {
   "cell_type": "markdown",
   "id": "455bafbf",
   "metadata": {},
   "source": [
    "Q7. Using the Fraction class but not the Decimal class, give an example of a quantity that can be expressed with absolute precision."
   ]
  },
  {
   "cell_type": "code",
   "execution_count": 5,
   "id": "bd8a78a2",
   "metadata": {},
   "outputs": [
    {
     "name": "stdout",
     "output_type": "stream",
     "text": [
      "11/35\n",
      "5/9\n",
      "0\n"
     ]
    }
   ],
   "source": [
    "from fractions import Fraction\n",
    "\n",
    "print (Fraction(11, 35))\n",
    "# returns Fraction(11, 35)\n",
    "print (Fraction(10, 18))\n",
    "# returns Fraction(5, 9)\n",
    "print (Fraction())\n",
    "# returns Fraction(0, 1)"
   ]
  },
  {
   "cell_type": "code",
   "execution_count": 6,
   "id": "91169b25",
   "metadata": {},
   "outputs": [
    {
     "name": "stdout",
     "output_type": "stream",
     "text": [
      "157079632679489661923/50000000000000000000\n",
      "355/113\n",
      "311/99\n",
      "22/7\n",
      "5\n",
      "2\n"
     ]
    }
   ],
   "source": [
    "from fractions import Fraction\n",
    "print (Fraction('3.14159265358979323846'))\n",
    "print (Fraction('3.14159265358979323846').limit_denominator(10000))\n",
    "print (Fraction('3.14159265358979323846').limit_denominator(100))\n",
    "print (Fraction('3.14159265358979323846').limit_denominator(10))\n",
    "print (Fraction(125, 50).numerator)\n",
    "print (Fraction(125, 50).denominator)"
   ]
  },
  {
   "cell_type": "markdown",
   "id": "131ef95b",
   "metadata": {},
   "source": [
    "Q8. Describe a quantity that can be accurately expressed by the Decimal or Fraction classes but not by a floating-point value."
   ]
  },
  {
   "cell_type": "markdown",
   "id": "a53b957e",
   "metadata": {},
   "source": [
    "0.00011 is a finite representation of an infinite number of digits. That doesn't help us with floating-point. Floating-point does not represent numbers using repeat bars; it represents them with a fixed number of bits it can be represented by decimal or fraction class"
   ]
  },
  {
   "cell_type": "markdown",
   "id": "e46ae1a8",
   "metadata": {},
   "source": [
    "Q9.Consider the following two fraction objects: Fraction(1, 2) and Fraction(1, 2). (5, 10). Is the internal state of these two objects the same? Why do you think that is?"
   ]
  },
  {
   "cell_type": "markdown",
   "id": "820e0e85",
   "metadata": {},
   "source": [
    "the internal state is same will give fraction of 1/2"
   ]
  },
  {
   "cell_type": "markdown",
   "id": "49f1da8d",
   "metadata": {},
   "source": [
    "Q10. How do the Fraction class and the integer type (int) relate to each other? Containment or inheritance?"
   ]
  },
  {
   "cell_type": "markdown",
   "id": "7a3dabcf",
   "metadata": {},
   "source": [
    "Inheritence"
   ]
  },
  {
   "cell_type": "code",
   "execution_count": null,
   "id": "ca989ebd",
   "metadata": {},
   "outputs": [],
   "source": []
  }
 ],
 "metadata": {
  "kernelspec": {
   "display_name": "Python 3 (ipykernel)",
   "language": "python",
   "name": "python3"
  },
  "language_info": {
   "codemirror_mode": {
    "name": "ipython",
    "version": 3
   },
   "file_extension": ".py",
   "mimetype": "text/x-python",
   "name": "python",
   "nbconvert_exporter": "python",
   "pygments_lexer": "ipython3",
   "version": "3.11.5"
  }
 },
 "nbformat": 4,
 "nbformat_minor": 5
}
