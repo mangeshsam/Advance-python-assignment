{
 "cells": [
  {
   "cell_type": "markdown",
   "id": "d6fcbcd7",
   "metadata": {},
   "source": [
    "1. What are the new features added in Python 3.8 version?"
   ]
  },
  {
   "cell_type": "markdown",
   "id": "a0f6f101",
   "metadata": {},
   "source": [
    " Python 3.8 adds some new syntax to the language, a few minor changes to existing behavior, and mostly a bunch of speed improvements — maintaining the tradition from the earlier 3.7 release\n",
    "\n",
    "Example: PEP 572 (Assignment Expressions) – The walrus operator (:=)"
   ]
  },
  {
   "cell_type": "markdown",
   "id": "00500f93",
   "metadata": {},
   "source": [
    "Q2. What is monkey patching in Python?"
   ]
  },
  {
   "cell_type": "markdown",
   "id": "d25b640c",
   "metadata": {},
   "source": [
    " In Python, the term monkey patch refers to dynamic (or run-time) modifications of a class or module. In Python, we can actually change the behavior of code at run-time."
   ]
  },
  {
   "cell_type": "code",
   "execution_count": 1,
   "id": "1b88548c",
   "metadata": {},
   "outputs": [],
   "source": [
    "class A:\n",
    "     def func(self):\n",
    "            print (\"func() is being called\")"
   ]
  },
  {
   "cell_type": "code",
   "execution_count": 4,
   "id": "451c0fb8",
   "metadata": {},
   "outputs": [
    {
     "name": "stdout",
     "output_type": "stream",
     "text": [
      "monkey_f() is being called\n"
     ]
    }
   ],
   "source": [
    "def monkey_f(self):\n",
    "    print (\"monkey_f() is being called\")\n",
    "\n",
    "# replacing address of \"func\" with \"monkey_f\"\n",
    "A.func = monkey_f\n",
    "obj = A()\n",
    "\n",
    "# calling function \"func\" whose address got replaced with function \"monkey_f()\"\n",
    "obj.func()\n"
   ]
  },
  {
   "cell_type": "markdown",
   "id": "2e88a9a5",
   "metadata": {},
   "source": [
    "Q3. What is the difference between a shallow copy and deep copy?"
   ]
  },
  {
   "cell_type": "markdown",
   "id": "0741d796",
   "metadata": {},
   "source": [
    " A shallow copy constructs a new compound object and then (to the extent possible) inserts references into it to the objects found in the original. A deep copy constructs a new compound object and then, recursively, inserts copies into it of the objects found in the original."
   ]
  },
  {
   "cell_type": "markdown",
   "id": "aaa78e9c",
   "metadata": {},
   "source": [
    "Q4. What is the maximum possible length of an identifier?\n",
    "\n"
   ]
  },
  {
   "cell_type": "markdown",
   "id": "81ba015c",
   "metadata": {},
   "source": [
    "Identifiers can be a combination of letters, numbers, special symbols, etc. But it must not extend 31 characters. Hence, the maximum possible length of an identifier is 31"
   ]
  },
  {
   "cell_type": "markdown",
   "id": "b97d3085",
   "metadata": {},
   "source": [
    "Q5. What is generator comprehension?\n",
    "\n"
   ]
  },
  {
   "cell_type": "markdown",
   "id": "af88c2fe",
   "metadata": {},
   "source": [
    "A generator comprehension is a single-line specification for defining a generator in Python."
   ]
  },
  {
   "cell_type": "code",
   "execution_count": 5,
   "id": "e550ac77",
   "metadata": {},
   "outputs": [
    {
     "name": "stdout",
     "output_type": "stream",
     "text": [
      "<generator object <genexpr> at 0x000001A324B62A80>\n"
     ]
    }
   ],
   "source": [
    "gen = (i**2 for i in range(100))\n",
    "print(gen)\n",
    "     "
   ]
  },
  {
   "cell_type": "code",
   "execution_count": 6,
   "id": "04cb0b3a",
   "metadata": {},
   "outputs": [
    {
     "data": {
      "text/plain": [
       "328350"
      ]
     },
     "execution_count": 6,
     "metadata": {},
     "output_type": "execute_result"
    }
   ],
   "source": [
    "gen = (i**2 for i in range(100))\n",
    "sum(gen)\n"
   ]
  },
  {
   "cell_type": "code",
   "execution_count": 7,
   "id": "f8210fc0",
   "metadata": {},
   "outputs": [
    {
     "data": {
      "text/plain": [
       "True"
      ]
     },
     "execution_count": 7,
     "metadata": {},
     "output_type": "execute_result"
    }
   ],
   "source": [
    "gen = (i for i in range(1, 11))\n",
    "5 in gen\n"
   ]
  },
  {
   "cell_type": "code",
   "execution_count": null,
   "id": "11936258",
   "metadata": {},
   "outputs": [],
   "source": []
  }
 ],
 "metadata": {
  "kernelspec": {
   "display_name": "Python 3 (ipykernel)",
   "language": "python",
   "name": "python3"
  },
  "language_info": {
   "codemirror_mode": {
    "name": "ipython",
    "version": 3
   },
   "file_extension": ".py",
   "mimetype": "text/x-python",
   "name": "python",
   "nbconvert_exporter": "python",
   "pygments_lexer": "ipython3",
   "version": "3.11.5"
  }
 },
 "nbformat": 4,
 "nbformat_minor": 5
}
