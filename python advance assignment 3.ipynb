{
 "cells": [
  {
   "cell_type": "markdown",
   "id": "5d1e1c6f",
   "metadata": {},
   "source": [
    "1. What is the concept of an abstract superclass?"
   ]
  },
  {
   "cell_type": "raw",
   "id": "4ae3b051",
   "metadata": {},
   "source": [
    "Abstract Super Class. A common superclass for several subclasses. Factor up common behavior. Define the methods they all respond to. Methods that subclasses should implement are declared abstract."
   ]
  },
  {
   "cell_type": "code",
   "execution_count": 1,
   "id": "7781bb13",
   "metadata": {},
   "outputs": [],
   "source": [
    "class test:\n",
    "    def __init__(self, a , b  , c ,d ) :\n",
    "        self.__a = a \n",
    "        self.b = b\n",
    "        self.c = c \n",
    "        self.d = d \n",
    "    def test_custome(self , v ) : \n",
    "         return v - self.__a \n",
    "    \n",
    "    def __str__(self):\n",
    "        return \"this is my test code for abstraction\""
   ]
  },
  {
   "cell_type": "code",
   "execution_count": 2,
   "id": "47e69296",
   "metadata": {},
   "outputs": [
    {
     "name": "stdout",
     "output_type": "stream",
     "text": [
      "6\n",
      "7\n",
      "8\n",
      "3\n",
      "5\n"
     ]
    }
   ],
   "source": [
    "class test1(test):\n",
    "    def __init__(self, j , *args):\n",
    "        super(test1,self).__init__(*args) #\n",
    "        self.j = j \n",
    "\n",
    "m = test1(4,5,6,7,8)\n",
    "print(m.b)\n",
    "print(m.c)\n",
    "print(m.d)\n",
    "print(m.test_custome(8))\n",
    "print(m._test__a)"
   ]
  },
  {
   "cell_type": "markdown",
   "id": "77b46f02",
   "metadata": {},
   "source": [
    "2. What happens when a class statement's top level contains a basic assignment statement?"
   ]
  },
  {
   "cell_type": "raw",
   "id": "4d32a3e4",
   "metadata": {},
   "source": [
    "When a class statement's top level contains a basic assignment statement they are considered as class attributes and can be used by functions inside a class or can be called by reating a class object."
   ]
  },
  {
   "cell_type": "code",
   "execution_count": 4,
   "id": "6b5e5968",
   "metadata": {},
   "outputs": [
    {
     "name": "stdout",
     "output_type": "stream",
     "text": [
      "mammal\n",
      "I'm a mammal\n",
      "I'm a dog\n"
     ]
    }
   ],
   "source": [
    "class Dog:\n",
    "     \n",
    "    attr1 = \"mammal\"\n",
    "    attr2 = \"dog\"\n",
    "    def fun(self):\n",
    "        print(\"I'm a\", self.attr1)\n",
    "        print(\"I'm a\", self.attr2)\n",
    "\n",
    "Rodger = Dog()\n",
    " \n",
    "print(Rodger.attr1) \n",
    "Rodger.fun()"
   ]
  },
  {
   "cell_type": "markdown",
   "id": "967231b0",
   "metadata": {},
   "source": [
    "3. Why does a class need to manually call a superclass's init method?"
   ]
  },
  {
   "cell_type": "raw",
   "id": "5274c582",
   "metadata": {},
   "source": [
    "It's because one needs to define something that is NOT done in the base class init , and the only possibility to obtain that is to put its execution in a derived class init function."
   ]
  },
  {
   "cell_type": "markdown",
   "id": "0504164e",
   "metadata": {},
   "source": [
    "4.How can you augment, instead of completely replacing, an inherited method?"
   ]
  },
  {
   "cell_type": "raw",
   "id": "bd5067e3",
   "metadata": {},
   "source": [
    "In python to override a method provided by an ancestor class, we have to decide if and when to call its original implementation. This gives the programmer the freedom to decide whether they need to just augment a method or to replace it completely."
   ]
  },
  {
   "cell_type": "code",
   "execution_count": 6,
   "id": "7137281f",
   "metadata": {},
   "outputs": [],
   "source": [
    "class GraphicalEntity:\n",
    "    def __init__(self, pos_x, pos_y, size_x, size_y):\n",
    "        self.pos_x = pos_x\n",
    "        self.pos_y = pos_y\n",
    "        self.size_x = size_x\n",
    "        self.size_y = size_y\n",
    "\n",
    "    def move(self, pos_x, pos_y):\n",
    "        self.pos_x = pos_x\n",
    "        self.pos_y = pos_y\n",
    "\n",
    "    def resize(self, size_x, size_y):\n",
    "        self.size_x = size_x\n",
    "        self.size_y = size_y\n",
    "\n",
    "class Rectangle(GraphicalEntity):\n",
    "    pass\n",
    "\n",
    "class Square(GraphicalEntity):\n",
    "    def __init__(self, pos_x, pos_y, size):\n",
    "        super().__init__(pos_x, pos_y, size, size)\n",
    "\n",
    "    def resize(self, size):\n",
    "        super().resize(size, size)\n",
    "     "
   ]
  },
  {
   "cell_type": "code",
   "execution_count": 7,
   "id": "f39c8294",
   "metadata": {},
   "outputs": [],
   "source": [
    "r1 = Rectangle(100, 200, 15, 30)\n",
    "r2 = Rectangle(150, 280, 23, 55)\n",
    "q1 = Square(300, 400, 50)\n"
   ]
  },
  {
   "cell_type": "markdown",
   "id": "d53a4414",
   "metadata": {},
   "source": [
    "5. How is the local scope of a class different from that of a function?"
   ]
  },
  {
   "cell_type": "raw",
   "id": "f099c0a5",
   "metadata": {},
   "source": [
    "Local scope : Local scope is a kind of block scope which are only visible from their point of declaration to the end of the function or lambda body.\n",
    "Class scope : Names of class members have class scope, which extends throughout the class definition regardless of the point of declaration."
   ]
  },
  {
   "cell_type": "code",
   "execution_count": null,
   "id": "48a6dbcd",
   "metadata": {},
   "outputs": [],
   "source": []
  }
 ],
 "metadata": {
  "kernelspec": {
   "display_name": "Python 3 (ipykernel)",
   "language": "python",
   "name": "python3"
  },
  "language_info": {
   "codemirror_mode": {
    "name": "ipython",
    "version": 3
   },
   "file_extension": ".py",
   "mimetype": "text/x-python",
   "name": "python",
   "nbconvert_exporter": "python",
   "pygments_lexer": "ipython3",
   "version": "3.11.5"
  }
 },
 "nbformat": 4,
 "nbformat_minor": 5
}
