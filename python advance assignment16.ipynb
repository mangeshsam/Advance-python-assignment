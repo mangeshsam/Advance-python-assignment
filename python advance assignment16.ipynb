{
 "cells": [
  {
   "cell_type": "markdown",
   "id": "7f83b19a",
   "metadata": {},
   "source": [
    "Q1. What is the benefit of regular expressions?"
   ]
  },
  {
   "cell_type": "markdown",
   "id": "a8a97f9b",
   "metadata": {},
   "source": [
    "A regular expression is a special sequence of characters that helps us to match or find other strings or sets of strings, using a specialized syntax held in a pattern. Regular expressions are widely used in UNIX world. The Python module re provides full support for Perl-like regular expressions in Python. The re module raises the exception re.error if an error occurs while compiling or using a regular expression."
   ]
  },
  {
   "cell_type": "markdown",
   "id": "5bc64f8e",
   "metadata": {},
   "source": [
    "Q2. Describe the difference between the effects of \"(ab)c+\" and \"a(bc)+.\" Which of these, if any, is the unqualified pattern \"abc+\"?"
   ]
  },
  {
   "cell_type": "markdown",
   "id": "cfc9ceba",
   "metadata": {},
   "source": [
    " the result of both of them will be basically computed using the BOADMAS rule according to mathematics so results will be different in both case. taking in terms of regular espressions it causes the resulting RE to match 1 or more repetitions of the preceding RE. (ab)c+ will match ‘ab’ followed by any non-zero number of ‘c’s; it will not match just ‘ab’. similarly for a(bc)+ it will match ‘a’ followed by any non-zero number of ‘bc’s; it will not match just ‘a’."
   ]
  },
  {
   "cell_type": "markdown",
   "id": "d8966370",
   "metadata": {},
   "source": [
    "Q3. How much do you need to use the following sentence while using regular expressions? \n",
    "\n",
    "import re"
   ]
  },
  {
   "cell_type": "markdown",
   "id": "b52790d9",
   "metadata": {},
   "source": [
    " it's a basic import statement to use regular expressions in python"
   ]
  },
  {
   "cell_type": "markdown",
   "id": "f4faa70b",
   "metadata": {},
   "source": [
    "Q4. Which characters have special significance in square brackets when expressing a range, and under what circumstances?"
   ]
  },
  {
   "cell_type": "markdown",
   "id": "408f011b",
   "metadata": {},
   "source": [
    "Square brackets ([ ]) designate a character class and match a single character in the string. Inside a character class, only the character class metacharacters (backslash, circumflex anchor and hyphen) have special meaning.\n",
    "\n",
    "we must use a backslash when we use character class metacharacters as literals inside a character class only. Square brackets that are used as literals must always be escaped with backslash, both inside and outside a character class."
   ]
  },
  {
   "cell_type": "markdown",
   "id": "15f27779",
   "metadata": {},
   "source": [
    "Q5. How does compiling a regular-expression object benefit you?"
   ]
  },
  {
   "cell_type": "markdown",
   "id": "69943f09",
   "metadata": {},
   "source": [
    "We can combine a regular expression pattern into pattern objects, which can be used for pattern matching. It also helps to search a pattern again without rewriting it."
   ]
  },
  {
   "cell_type": "markdown",
   "id": "8323b5d0",
   "metadata": {},
   "source": [
    "Q6. What are some examples of how to use the match object returned by re.match and re.search?"
   ]
  },
  {
   "cell_type": "code",
   "execution_count": 2,
   "id": "cca1a0c6",
   "metadata": {},
   "outputs": [
    {
     "name": "stdout",
     "output_type": "stream",
     "text": [
      "<re.Match object; span=(74, 80), match='string'>\n",
      "None\n",
      "<re.Match object; span=(0, 6), match='string'>\n",
      "<re.Match object; span=(0, 6), match='string'>\n"
     ]
    }
   ],
   "source": [
    "import re\n",
    "Substring ='string'\n",
    "String1 ='''We are learning regex with geeksforgeeks\n",
    "        regex is very useful for string matching.\n",
    "        It is fast too.'''\n",
    "String2 ='''string We are learning regex with geeksforgeeks\n",
    "        regex is very useful for string matching.\n",
    "        It is fast too.'''\n",
    "# Use of re.search() Method\n",
    "print(re.search(Substring, String1, re.IGNORECASE))\n",
    "# Use of re.match() Method\n",
    "print(re.match(Substring, String1, re.IGNORECASE))\n",
    "# Use of re.search() Method\n",
    "print(re.search(Substring, String2, re.IGNORECASE))\n",
    "# Use of re.match() Method\n",
    "print(re.match(Substring, String2, re.IGNORECASE))"
   ]
  },
  {
   "cell_type": "markdown",
   "id": "8a109134",
   "metadata": {},
   "source": [
    "re.search() is returning match object and implies that first match found at index 69.\n",
    "\n",
    "re.match() is returning none because match exists in the second line of the string and re.match() only works if the match is found at the beginning of the string.\n",
    "\n",
    "re.IGNORECASE is used to ignore the case sensitivity in the strings.\n",
    "\n",
    "Both re.search() and re.match() returns only the first occurrence of a substring in the string and ignore others."
   ]
  },
  {
   "cell_type": "markdown",
   "id": "f38540c0",
   "metadata": {},
   "source": [
    "Q7. What is the difference between using a vertical bar (|) as an alteration and using square brackets as a character set?\n"
   ]
  },
  {
   "cell_type": "markdown",
   "id": "b3739913",
   "metadata": {},
   "source": [
    "The vertical bar is a regex \"or\" means \"a or b\"\n",
    "\n",
    "Square brackets are a character class meaning \"any character from a or b.\n",
    "\n",
    "Character class is a shorthand for \"or\". From this explanation\n",
    "\n",
    "If we want to match an a or an e use [ae]\n",
    "\n",
    "A character class matches only a single character.\n",
    "\n",
    "we can also use hyphen to specify a range such as [0-9] or [a-e]"
   ]
  },
  {
   "cell_type": "markdown",
   "id": "ada717cd",
   "metadata": {},
   "source": [
    "Q8. In regular-expression search patterns, why is it necessary to use the raw-string indicator (r)? In replacement strings?\n"
   ]
  },
  {
   "cell_type": "markdown",
   "id": "427ffb55",
   "metadata": {},
   "source": [
    "\"Regular expressions use the backslash character ('') to indicate special forms or to allow special characters to be used without invoking their special meaning. This collides with Python’s usage of the same character for the same purpose in string literals\"\n",
    "\n",
    "If we want a Python regular expression object which matches a newline character, then we need a 2-character string, consisting of the backslash character followed by the n character. The following lines of code all set prog to a regular expression object which recognises a newline character:\n",
    "\n",
    "prog = re.compile(\"\\n\")\n",
    "\n",
    "prog = re.compile(r\"\\n\")"
   ]
  },
  {
   "cell_type": "code",
   "execution_count": null,
   "id": "8ba4c128",
   "metadata": {},
   "outputs": [],
   "source": []
  }
 ],
 "metadata": {
  "kernelspec": {
   "display_name": "Python 3 (ipykernel)",
   "language": "python",
   "name": "python3"
  },
  "language_info": {
   "codemirror_mode": {
    "name": "ipython",
    "version": 3
   },
   "file_extension": ".py",
   "mimetype": "text/x-python",
   "name": "python",
   "nbconvert_exporter": "python",
   "pygments_lexer": "ipython3",
   "version": "3.11.5"
  }
 },
 "nbformat": 4,
 "nbformat_minor": 5
}
