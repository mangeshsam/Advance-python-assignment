{
 "cells": [
  {
   "cell_type": "markdown",
   "id": "c63edf30",
   "metadata": {},
   "source": [
    "Q1. What is a probability distribution, exactly? If the values are meant to be random, how can you predict them at all?"
   ]
  },
  {
   "cell_type": "markdown",
   "id": "cc400b25",
   "metadata": {},
   "source": [
    " A probability distribution is a statistical function that describes all the possible values and likelihoods that a random variable can take within a given range. These factors include the distribution's mean (average), standard deviation, skewness, and kurtosis.\n",
    " \n",
    "If the values are meant to be random, we can predict them using following steps:\n",
    "\n",
    "Step 1: List all simple events in sample space.\n",
    "\n",
    "Step 2: Find probability for each simple event.\n",
    "\n",
    "Step 3: List possible values for random variable X and identify the value for each simple event.\n",
    "\n",
    "Step 4: Find all simple events for which X = k, for each possible value k."
   ]
  },
  {
   "cell_type": "markdown",
   "id": "2c6ec3d0",
   "metadata": {},
   "source": [
    "Q2. Is there a distinction between true random numbers and pseudo-random numbers, if there is one? Why are the latter considered “good enough”?"
   ]
  },
  {
   "cell_type": "markdown",
   "id": "8984d8fe",
   "metadata": {},
   "source": [
    "The difference between true random number generators(TRNGs) and pseudo-random number generators(PRNGs) is that TRNGs use an unpredictable physical means to generate numbers (like atmospheric noise), and PRNGs use mathematical algorithms (completely computer-generated). pseudo-random number are good enough because we usually don't need true randomness for most applications. What We need is unpredictability. If we're using a random number generator in a game, we don't care if the numbers are truly random; we only care that they aren't predictable."
   ]
  },
  {
   "cell_type": "markdown",
   "id": "b3217cdd",
   "metadata": {},
   "source": [
    "Q3. What are the two main factors that influence the behaviour of a \"normal\" probability distribution?"
   ]
  },
  {
   "cell_type": "markdown",
   "id": "49c600fe",
   "metadata": {},
   "source": [
    "The first rule states that the sum of the probabilities must equal 1. The second rule states that each probability must be between 0 and 1, inclusive"
   ]
  },
  {
   "cell_type": "markdown",
   "id": "1596d86f",
   "metadata": {},
   "source": [
    "Q4. Provide a real-life example of a normal distribution."
   ]
  },
  {
   "cell_type": "markdown",
   "id": "3f90858b",
   "metadata": {},
   "source": [
    "Rolling A Dice\n",
    "\n",
    "A fair rolling of dice is also a good example of normal distribution. In an experiment, it has been found that when a dice is rolled 100 times, chances to get '1' are 15-18% and if we roll the dice 1000 times, the chances to get '1' is, again, the same, which averages to 16.7% (1/6)."
   ]
  },
  {
   "cell_type": "markdown",
   "id": "06d4f485",
   "metadata": {},
   "source": [
    "Q5. In the short term, how can you expect a probability distribution to behave? What do you think will happen as the number of trials grows?"
   ]
  },
  {
   "cell_type": "markdown",
   "id": "955ca9f6",
   "metadata": {},
   "source": [
    "Depends on the data for the distribution. it initially wil be rising and after a certain threshold achieving it it will go down."
   ]
  },
  {
   "cell_type": "markdown",
   "id": "76f339af",
   "metadata": {},
   "source": [
    "Q6. What kind of object can be shuffled by using random.shuffle?"
   ]
  },
  {
   "cell_type": "markdown",
   "id": "fcebaf21",
   "metadata": {},
   "source": [
    "random provides shuffle() that shuffles the original list in place, and sample() that returns a new list that is randomly shuffled. sample() can also be used for strings and tuples."
   ]
  },
  {
   "cell_type": "markdown",
   "id": "b3021f30",
   "metadata": {},
   "source": [
    "Q7. Describe the math package's general categories of functions."
   ]
  },
  {
   "cell_type": "markdown",
   "id": "cf63d46a",
   "metadata": {},
   "source": [
    "sin, cos, sqrt, pow, log, exp etc."
   ]
  },
  {
   "cell_type": "markdown",
   "id": "c6840f1c",
   "metadata": {},
   "source": [
    "Q8. What is the relationship between exponentiation and logarithms?"
   ]
  },
  {
   "cell_type": "markdown",
   "id": "3a3bfef4",
   "metadata": {},
   "source": [
    " Logarithmic functions are the inverses of exponential functions. The inverse of the exponential function y = a^x is x = a^y. The logarithmic function y = log_a^x is defined to be equivalent to the exponential equation x = a^y."
   ]
  },
  {
   "cell_type": "markdown",
   "id": "6c8e89bb",
   "metadata": {},
   "source": [
    "Q9. What are the three logarithmic functions that Python supports?"
   ]
  },
  {
   "cell_type": "markdown",
   "id": "bad20216",
   "metadata": {},
   "source": [
    "log2(x)\n",
    "\n",
    "log(x, Base)\n",
    "\n",
    "log10(x)\n",
    "\n",
    "log1p(x)"
   ]
  },
  {
   "cell_type": "code",
   "execution_count": null,
   "id": "26391f44",
   "metadata": {},
   "outputs": [],
   "source": []
  }
 ],
 "metadata": {
  "kernelspec": {
   "display_name": "Python 3 (ipykernel)",
   "language": "python",
   "name": "python3"
  },
  "language_info": {
   "codemirror_mode": {
    "name": "ipython",
    "version": 3
   },
   "file_extension": ".py",
   "mimetype": "text/x-python",
   "name": "python",
   "nbconvert_exporter": "python",
   "pygments_lexer": "ipython3",
   "version": "3.11.5"
  }
 },
 "nbformat": 4,
 "nbformat_minor": 5
}
