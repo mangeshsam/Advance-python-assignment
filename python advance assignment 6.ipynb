{
 "cells": [
  {
   "cell_type": "markdown",
   "id": "80d2fe4a",
   "metadata": {},
   "source": [
    "1. Describe three applications for exception processing."
   ]
  },
  {
   "cell_type": "markdown",
   "id": "bd6f611c",
   "metadata": {},
   "source": [
    " Python provides the number of built-in exceptions, but here we are describing the common standard exceptions. A list of common exceptions that can be thrown from a standard Python program is given below.\n",
    "\n",
    "ZeroDivisionError: Occurs when a number is divided by zero.\n",
    "NameError: It occurs when a name is not found. It may be local or global.\n",
    "IndentationError: If incorrect indentation is given.\n",
    "IOError: It occurs when Input Output operation fails.\n",
    "EOFError: It occurs when the end of the file is reached, and yet operations are being performed."
   ]
  },
  {
   "cell_type": "code",
   "execution_count": 1,
   "id": "6eedc97b",
   "metadata": {},
   "outputs": [
    {
     "name": "stdout",
     "output_type": "stream",
     "text": [
      "Enter a:5\n",
      "Enter b:6\n",
      "a/b = %d 0.8333333333333334\n",
      "Hi I am else block\n",
      "Hi I am finally block\n"
     ]
    }
   ],
   "source": [
    "try:    \n",
    "    a = int(input(\"Enter a:\"))    \n",
    "    b = int(input(\"Enter b:\"))    \n",
    "    c = a/b  \n",
    "    print(\"a/b = %d\",c)    \n",
    "except Exception as e:\n",
    "    print(\"can't divide by zero\")    \n",
    "    print(e)  \n",
    "else:    \n",
    "    print(\"Hi I am else block\") \n",
    "finally:\n",
    "    print(\"Hi I am finally block\") "
   ]
  },
  {
   "cell_type": "markdown",
   "id": "a86ecd7d",
   "metadata": {},
   "source": [
    "2. What happens if you don't do something extra to treat an exception?"
   ]
  },
  {
   "cell_type": "markdown",
   "id": "f7b725b5",
   "metadata": {},
   "source": [
    "When an exception occurred, if you don't handle it, the program terminates abruptly and the code past the line that caused the exception will not get executed. Because of not handling exceptions while deployment of end products users can face issues at their end while using the product."
   ]
  },
  {
   "cell_type": "markdown",
   "id": "a4dedb8a",
   "metadata": {},
   "source": [
    "3. What are your options for recovering from an exception in your script?"
   ]
  },
  {
   "cell_type": "markdown",
   "id": "de1e8108",
   "metadata": {},
   "source": [
    "Exception handling and logging the exceptions are basic ideas that a programmer should follow. Also writing the code in modular fashion helps in easily fidong the errors in end products and logging make it easier for deelopers to resolve the issue at their end."
   ]
  },
  {
   "cell_type": "markdown",
   "id": "42c70265",
   "metadata": {},
   "source": [
    "4. Describe two methods for triggering exceptions in your script."
   ]
  },
  {
   "cell_type": "markdown",
   "id": "e12c3ed5",
   "metadata": {},
   "source": [
    "An unhandled exception displays an error message and the program suddenly crashes. To avoid such a scenario, there are two methods to handle Python exceptions:\n",
    "\n",
    "Try – This method catches the exceptions raised by the program\n",
    "\n",
    "Raise – Triggers an exception manually using custom exceptions"
   ]
  },
  {
   "cell_type": "markdown",
   "id": "137e8439",
   "metadata": {},
   "source": [
    "5. Identify two methods for specifying actions to be executed at termination time, regardless of whether or not an exception exists."
   ]
  },
  {
   "cell_type": "markdown",
   "id": "d7e9a38c",
   "metadata": {},
   "source": [
    " These methods are finally and else a simple expmple using them is shown above."
   ]
  },
  {
   "cell_type": "code",
   "execution_count": null,
   "id": "f7d36e3a",
   "metadata": {},
   "outputs": [],
   "source": []
  },
  {
   "cell_type": "code",
   "execution_count": null,
   "id": "932e3cca",
   "metadata": {},
   "outputs": [],
   "source": []
  }
 ],
 "metadata": {
  "kernelspec": {
   "display_name": "Python 3 (ipykernel)",
   "language": "python",
   "name": "python3"
  },
  "language_info": {
   "codemirror_mode": {
    "name": "ipython",
    "version": 3
   },
   "file_extension": ".py",
   "mimetype": "text/x-python",
   "name": "python",
   "nbconvert_exporter": "python",
   "pygments_lexer": "ipython3",
   "version": "3.11.5"
  }
 },
 "nbformat": 4,
 "nbformat_minor": 5
}
