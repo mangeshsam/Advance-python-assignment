{
 "cells": [
  {
   "cell_type": "markdown",
   "id": "06e7445d",
   "metadata": {},
   "source": [
    "Q1. What are the benefits of the built-in array package, if any?"
   ]
  },
  {
   "cell_type": "markdown",
   "id": "6a6780ed",
   "metadata": {},
   "source": [
    " The Array is much more rigid. That is, the items that an array contains must be of the same type. Therefore, the size of the item will also be the same. We can check the size of each item."
   ]
  },
  {
   "cell_type": "markdown",
   "id": "86a4a15d",
   "metadata": {},
   "source": [
    "Q2. What are some of the array package's limitations?"
   ]
  },
  {
   "cell_type": "markdown",
   "id": "a9c0da65",
   "metadata": {},
   "source": [
    "An array which is formed will be homogeneous."
   ]
  },
  {
   "cell_type": "markdown",
   "id": "b11f37d8",
   "metadata": {},
   "source": [
    "While declaring an array, passing size of an array is compulsory, and the size must be a constant.\n",
    "\n",
    "Shifting is required for insertion or deletion of elements in an array"
   ]
  },
  {
   "cell_type": "markdown",
   "id": "d5377289",
   "metadata": {},
   "source": [
    "Q3. Describe the main differences between the array and numpy packages."
   ]
  },
  {
   "cell_type": "markdown",
   "id": "eb70eacb",
   "metadata": {},
   "source": [
    "A numpy array is a grid of values, all of the same type, and is indexed by a tuple of nonnegative integers. A list is the Python equivalent of an array, but is resizeable and can contain elements of different types. The answer to above query the main difference in two is of performance."
   ]
  },
  {
   "cell_type": "markdown",
   "id": "1da99c5b",
   "metadata": {},
   "source": [
    "Q4. Explain the distinctions between the empty, ones, and zeros functions."
   ]
  },
  {
   "cell_type": "markdown",
   "id": "5763acfb",
   "metadata": {},
   "source": [
    " The only difference between numpy.empty numpy.ones and numpy.zeros is that empty uses malloc and zeros uses calloc. Also zeros() and ones() are the NumPy library functions to create two different arrays. zeros() function is used to create an array based on the particular shape and type. All array elements are initialized to 0, which is created by the zeros() function. ones() function works like the zeros() function."
   ]
  },
  {
   "cell_type": "markdown",
   "id": "94108fcf",
   "metadata": {},
   "source": [
    "Q5. In the fromfunction function, which is used to construct new arrays, what is the role of the callable argument?"
   ]
  },
  {
   "cell_type": "markdown",
   "id": "55219534",
   "metadata": {},
   "source": [
    "fromfunction() function construct an array by executing a function over each coordinate and the resulting array, therefore, has a value fn(x, y, z) at coordinate (x, y, z). Parameters : function : [callable] The function is called with N parameters, where N is the rank of shape."
   ]
  },
  {
   "cell_type": "markdown",
   "id": "04c60d0f",
   "metadata": {},
   "source": [
    "Q6. What happens when a numpy array is combined with a single-value operand (a scalar, such as an int or a floating-point value) through addition, as in the expression A + n?"
   ]
  },
  {
   "cell_type": "code",
   "execution_count": 1,
   "id": "0b26eb0e",
   "metadata": {},
   "outputs": [
    {
     "name": "stdout",
     "output_type": "stream",
     "text": [
      "[2 3 4 5 6]\n"
     ]
    }
   ],
   "source": [
    "import numpy as np\n",
    "\n",
    "arr = np.array((1, 2, 3, 4, 5))\n",
    "\n",
    "print(arr + 1)"
   ]
  },
  {
   "cell_type": "markdown",
   "id": "85915373",
   "metadata": {},
   "source": [
    "Q7. Can array-to-scalar operations use combined operation-assign operators (such as += or *=)? What is the outcome?"
   ]
  },
  {
   "cell_type": "markdown",
   "id": "46f5749c",
   "metadata": {},
   "source": [
    "NO"
   ]
  },
  {
   "cell_type": "code",
   "execution_count": 3,
   "id": "c60002ce",
   "metadata": {},
   "outputs": [
    {
     "name": "stdout",
     "output_type": "stream",
     "text": [
      "[2 3 4 5 6]\n"
     ]
    }
   ],
   "source": [
    "import numpy as np\n",
    "\n",
    "arr = np.array((1, 2, 3, 4, 5))\n",
    "a = arr + 1\n",
    "print(a)\n",
    "     "
   ]
  },
  {
   "cell_type": "markdown",
   "id": "05843281",
   "metadata": {},
   "source": [
    "Q8. Does a numpy array contain fixed-length strings? What happens if you allocate a longer string to one of these arrays?"
   ]
  },
  {
   "cell_type": "markdown",
   "id": "15a7d14d",
   "metadata": {},
   "source": [
    "NumPy arrays have a fixed size at creation, unlike Python lists (which can grow dynamically). Changing the size of an ndarray will create a new array and delete the original. The elements in a NumPy array are all required to be of the same data type, and thus will be the same size in memory. if longer strings is allocateed it might cause a computation problem basically increse the time complexity."
   ]
  },
  {
   "cell_type": "markdown",
   "id": "89dae965",
   "metadata": {},
   "source": [
    "Q9. What happens when you combine two numpy arrays using an operation like addition (+) or multiplication (*)? What are the conditions for combining two numpy arrays?"
   ]
  },
  {
   "cell_type": "code",
   "execution_count": 4,
   "id": "17247830",
   "metadata": {},
   "outputs": [
    {
     "name": "stdout",
     "output_type": "stream",
     "text": [
      "[[ 6  8]\n",
      " [10 12]]\n",
      "\n",
      " [[ 5 12]\n",
      " [21 32]]\n"
     ]
    }
   ],
   "source": [
    "import numpy as np\n",
    "\n",
    "arr1 = np.array([[1, 2], [3, 4]])\n",
    "\n",
    "arr2 = np.array([[5, 6], [7, 8]])\n",
    "\n",
    "arr = arr1+arr2\n",
    "arr1 = arr1*arr2\n",
    "\n",
    "print(arr)\n",
    "print(\"\\n\",arr1)"
   ]
  },
  {
   "cell_type": "markdown",
   "id": "cb1bf582",
   "metadata": {},
   "source": [
    "NumPy's concatenate function can be used to concatenate two arrays either row-wise or column-wise. Concatenate function can take two or more arrays of the same shape and by default it concatenates row-wise i.e. axis=0. The resulting array after row-wise concatenation is of the shape 6 x 3, i.e. 6 rows and 3 columns."
   ]
  },
  {
   "cell_type": "markdown",
   "id": "d0956c5d",
   "metadata": {},
   "source": [
    "Q10. What is the best way to use a Boolean array to mask another array?"
   ]
  },
  {
   "cell_type": "markdown",
   "id": "2f4d8ab4",
   "metadata": {},
   "source": [
    "Boolean masking is typically the most efficient way to quantify a sub-collection in a collection. Masking in python and data science is when you want manipulated data in a collection based on some criteria. The criteria you use is typically of a true or false nature, hence the boolean part.\n",
    "\n",
    "Using masked_where() function: Pass the two array in the function as a parameter then use numpy. ma. masked_where() function in which pass the condition for masking and array to be masked.\n",
    "\n",
    "Using masked_where(), getmask() and masked_array() function: Pass the two array in the function as a parameter then use numpy. ma."
   ]
  },
  {
   "cell_type": "markdown",
   "id": "1c42d324",
   "metadata": {},
   "source": [
    "Q11. What are three different ways to get the standard deviation of a wide collection of data using both standard Python and its packages? Sort the three of them by how quickly they execute."
   ]
  },
  {
   "cell_type": "markdown",
   "id": "ad5e8939",
   "metadata": {},
   "source": [
    "one method is shown below standar then we can use pandas or using srpiting line by line to ding standard deviation. using pandas std() is generally nicer way and faster."
   ]
  },
  {
   "cell_type": "code",
   "execution_count": 5,
   "id": "fcb2355c",
   "metadata": {},
   "outputs": [
    {
     "data": {
      "text/plain": [
       "2.4"
      ]
     },
     "execution_count": 5,
     "metadata": {},
     "output_type": "execute_result"
    }
   ],
   "source": [
    "import math\n",
    "def variance(data, ddof=0):\n",
    "    n = len(data)\n",
    "    mean = sum(data) / n\n",
    "    return sum((x - mean) ** 2 for x in data) / (n - ddof)\n",
    "\n",
    "\n",
    "def stdev(data):\n",
    "    var = variance(data)\n",
    "    std_dev = math.sqrt(var)\n",
    "    return std_dev\n",
    "\n",
    "stdev([4, 8, 6, 5, 3, 2, 8, 9, 2, 5])"
   ]
  },
  {
   "cell_type": "markdown",
   "id": "6ab1121a",
   "metadata": {},
   "source": [
    "Q12. What is the dimensionality of a Boolean mask-generated array? Answer: it remain the same. Example below:\n",
    "\n"
   ]
  },
  {
   "cell_type": "code",
   "execution_count": 6,
   "id": "728c3c34",
   "metadata": {},
   "outputs": [
    {
     "name": "stdout",
     "output_type": "stream",
     "text": [
      "[[[[-- 11]\n",
      "   [-- 22]\n",
      "   [3 33]]\n",
      "\n",
      "  [[4 44]\n",
      "   [5 55]\n",
      "   [6 66]]]\n",
      "\n",
      "\n",
      " [[[7 77]\n",
      "   [8 88]\n",
      "   [9 99]]\n",
      "\n",
      "  [[-- 32]\n",
      "   [-- 33]\n",
      "   [-- 34]]]]\n"
     ]
    }
   ],
   "source": [
    "import numpy as np\n",
    "\n",
    "arr = np.asarray([[[[1, 11], [2, 22], [3, 33]],\n",
    "                   [[4, 44], [5, 55], [6, 66]]],\n",
    "                  [[[7, 77], [8, 88], [9, 99]],\n",
    "                   [[0, 32], [1, 33], [2, 34]]]])\n",
    "\n",
    "masked_arr = np.ma.masked_less(arr, 3)\n",
    "\n",
    "print(masked_arr)"
   ]
  },
  {
   "cell_type": "code",
   "execution_count": null,
   "id": "b415ef9e",
   "metadata": {},
   "outputs": [],
   "source": []
  }
 ],
 "metadata": {
  "kernelspec": {
   "display_name": "Python 3 (ipykernel)",
   "language": "python",
   "name": "python3"
  },
  "language_info": {
   "codemirror_mode": {
    "name": "ipython",
    "version": 3
   },
   "file_extension": ".py",
   "mimetype": "text/x-python",
   "name": "python",
   "nbconvert_exporter": "python",
   "pygments_lexer": "ipython3",
   "version": "3.11.5"
  }
 },
 "nbformat": 4,
 "nbformat_minor": 5
}
