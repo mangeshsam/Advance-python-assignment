{
 "cells": [
  {
   "cell_type": "markdown",
   "id": "12fe5157",
   "metadata": {},
   "source": [
    "Q1. What is the purpose of the try statement?"
   ]
  },
  {
   "cell_type": "markdown",
   "id": "c31ae596",
   "metadata": {},
   "source": [
    "The try statement allows a programmer to define a block of code to be tested for errors while it is being executed. The catch statement allows you to define a block of code to be executed, if an error occurs in the try block."
   ]
  },
  {
   "cell_type": "markdown",
   "id": "fee416bc",
   "metadata": {},
   "source": [
    "2. What are the two most popular try statement variations?"
   ]
  },
  {
   "cell_type": "markdown",
   "id": "f514dc77",
   "metadata": {},
   "source": [
    "Variation 1:\n",
    "\n",
    "try: # Some Code except: # Executed if error in the # try block\n",
    "\n",
    "Variation 2:\n",
    "\n",
    "try: # Some Code except: # Executed if error in the # try block else: # execute if no exception\n",
    "\n",
    "Variation 3:\n",
    "\n",
    "try: # Some Code except: # Executed if error in the # try block else: # execute if no exception finally: # Some code .....(always executed)"
   ]
  },
  {
   "cell_type": "markdown",
   "id": "ff2a9c98",
   "metadata": {},
   "source": [
    "3. What is the purpose of the raise statement? Answer: The raise keyword is used to raise an exception. We can define what kind of error to raise, and the text to print to the user."
   ]
  },
  {
   "cell_type": "code",
   "execution_count": null,
   "id": "218229a7",
   "metadata": {},
   "outputs": [],
   "source": [
    "input = input(\"Enter the input:\")\n",
    "if not type(input) is int:\n",
    "    raise TypeError(\"Only integers are allowed\") "
   ]
  },
  {
   "cell_type": "markdown",
   "id": "6d7b6d67",
   "metadata": {},
   "source": [
    "4. What does the assert statement do, and what other statement is it like?"
   ]
  },
  {
   "cell_type": "markdown",
   "id": "1dae07cc",
   "metadata": {},
   "source": [
    "An assert statement checks whether a condition is true. If a condition evaluates to True, a program will keep running. If a condition is false, the program will return an AssertionError. At this point, the program will stop executing. Assertion is like raise statement."
   ]
  },
  {
   "cell_type": "markdown",
   "id": "171487b9",
   "metadata": {},
   "source": [
    "5. What is the purpose of the with/as argument, and what other statement is it like?"
   ]
  },
  {
   "cell_type": "markdown",
   "id": "d7ec2792",
   "metadata": {},
   "source": [
    "The with statement in Python is used for resource management and exception handling. We use it while working with file streams. For example, the statement ensures that the file stream process doesn't block other processes if an exception is raised, but terminates properly. We can use a try statement or block it is somewhat similar to with."
   ]
  },
  {
   "cell_type": "code",
   "execution_count": null,
   "id": "f115ff8e",
   "metadata": {},
   "outputs": [],
   "source": []
  }
 ],
 "metadata": {
  "kernelspec": {
   "display_name": "Python 3 (ipykernel)",
   "language": "python",
   "name": "python3"
  },
  "language_info": {
   "codemirror_mode": {
    "name": "ipython",
    "version": 3
   },
   "file_extension": ".py",
   "mimetype": "text/x-python",
   "name": "python",
   "nbconvert_exporter": "python",
   "pygments_lexer": "ipython3",
   "version": "3.11.5"
  }
 },
 "nbformat": 4,
 "nbformat_minor": 5
}
