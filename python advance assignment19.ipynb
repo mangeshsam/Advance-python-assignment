{
 "cells": [
  {
   "cell_type": "markdown",
   "id": "30c1ebe1",
   "metadata": {},
   "source": [
    "Q1. Define the relationship between a class and its instances. Is it a one-to-one or a one-to-many partnership, for example?\n",
    "\n"
   ]
  },
  {
   "cell_type": "markdown",
   "id": "d0448df4",
   "metadata": {},
   "source": [
    "A class is a blueprint which you use to create objects. An object is an instance of a class - it's a concrete 'thing' that you made using a specific class. So, 'object' and 'instance' are the same thing, but the word 'instance' indicates the relationship of an object to its class. a single object of a class can access multille functions defiend in the class in form of ine to many relationships."
   ]
  },
  {
   "cell_type": "markdown",
   "id": "c0998d37",
   "metadata": {},
   "source": [
    "Q2. What kind of data is held only in an instance?\n",
    "\n"
   ]
  },
  {
   "cell_type": "markdown",
   "id": "763d9734",
   "metadata": {},
   "source": [
    "If the value of a variable varies from object to object, then such variables are called instance variables. For every object, a separate copy of the instance variable will be created. Instance variables are not shared by objects."
   ]
  },
  {
   "cell_type": "markdown",
   "id": "8befeea6",
   "metadata": {},
   "source": [
    "Q3. What kind of knowledge is stored in a class?\n",
    "\n"
   ]
  },
  {
   "cell_type": "markdown",
   "id": "30106c9e",
   "metadata": {},
   "source": [
    "A class is a user-defined blueprint or prototype from which objects are created. Classes provide a means of bundling data and functionality together. Creating a new class creates a new type of object, allowing new instances of that type to be made."
   ]
  },
  {
   "cell_type": "markdown",
   "id": "19b873de",
   "metadata": {},
   "source": [
    "Q4. What exactly is a method, and how is it different from a regular function?\n",
    "\n"
   ]
  },
  {
   "cell_type": "markdown",
   "id": "792952c6",
   "metadata": {},
   "source": [
    "Methods are associated with the objects of the class they belong to. Functions are not associated with any object. Functions operate on the data we pass to them as arguments. Methods are dependent on the class they belong to."
   ]
  },
  {
   "cell_type": "markdown",
   "id": "9ecdf655",
   "metadata": {},
   "source": [
    "Q5. Is inheritance supported in Python, and if so, what is the syntax?\n",
    "\n",
    "\n",
    "\n",
    "yes\n"
   ]
  },
  {
   "cell_type": "code",
   "execution_count": 8,
   "id": "d88347f3",
   "metadata": {},
   "outputs": [
    {
     "name": "stdout",
     "output_type": "stream",
     "text": [
      "iNeuron Company was established in 2018\n"
     ]
    }
   ],
   "source": [
    "class Ineuron:\n",
    "    company_website = 'https://ineuron.ai/'\n",
    "    name = 'iNeuron'\n",
    " \n",
    "    def contact_details(self):\n",
    "        print('Contact us at ', self.company_website)\n",
    " \n",
    " \n",
    "class Datascience(Ineuron):\n",
    "    def __init__(self):\n",
    "        self.year_of_establishment= 2018\n",
    " \n",
    "    def est_details(self):\n",
    "        print('{0} Company was established in {1}'\n",
    "              .format(self.name,self.year_of_establishment))\n",
    " \n",
    " \n",
    "ds = Datascience()\n",
    "ds.est_details()"
   ]
  },
  {
   "cell_type": "markdown",
   "id": "26df26db",
   "metadata": {},
   "source": [
    "Q6. How much encapsulation (making instance or class variables private) does Python support?\n",
    "\n"
   ]
  },
  {
   "cell_type": "markdown",
   "id": "7e592ef4",
   "metadata": {},
   "source": [
    " We can protect variables in the class by marking them private. To define a private variable we can add two underscores as a prefix at the start of a variable name. Private members are accessible only within the class, and we can't access them directly from the class objects."
   ]
  },
  {
   "cell_type": "markdown",
   "id": "dbdff739",
   "metadata": {},
   "source": [
    "Q7. How do you distinguish between a class variable and an instance variable?\n",
    "\n"
   ]
  },
  {
   "cell_type": "markdown",
   "id": "2c367d24",
   "metadata": {},
   "source": [
    "Class varibale: It usually maintains a single shared value for all instances of class even if no instance object of the class exists.\n",
    "    \n",
    "Instance Variable: It usually reserves memory for data that the class needs.\n",
    "\n"
   ]
  },
  {
   "cell_type": "markdown",
   "id": "21e46175",
   "metadata": {},
   "source": [
    "Q8. When, if ever, can self be included in a class's method definitions?\n",
    "\n"
   ]
  },
  {
   "cell_type": "markdown",
   "id": "1672993e",
   "metadata": {},
   "source": [
    " Self is always pointing to Current Object.\n",
    "\n"
   ]
  },
  {
   "cell_type": "markdown",
   "id": "7e7941b8",
   "metadata": {},
   "source": [
    "Q9. What is the difference between the _ add _ and the _ radd _ methods?\n",
    "\n"
   ]
  },
  {
   "cell_type": "code",
   "execution_count": 9,
   "id": "902feb82",
   "metadata": {},
   "outputs": [
    {
     "name": "stdout",
     "output_type": "stream",
     "text": [
      "add 88 <__main__.Commuter1 object at 0x00000266AC8D6990>\n",
      "radd 99 88\n",
      "187\n"
     ]
    }
   ],
   "source": [
    "class Commuter1:\n",
    "    def __init__(self, val):\n",
    "        self.val = val\n",
    "    def __add__(self, other):\n",
    "        print('add', self.val, other)\n",
    "        return self.val + other\n",
    "\n",
    "\n",
    "    def __radd__(self, other):\n",
    "        print('radd', self.val, other)\n",
    "        return other + self.val\n",
    "\n",
    "\n",
    "x = Commuter1(88)\n",
    "y = Commuter1(99)\n",
    "\n",
    "print(x + y)"
   ]
  },
  {
   "cell_type": "markdown",
   "id": "99b472fd",
   "metadata": {},
   "source": [
    "Q10. When is it necessary to use a reflection method? When do you not need it, even though you support the operation in question?\n",
    "\n"
   ]
  },
  {
   "cell_type": "markdown",
   "id": "54de4654",
   "metadata": {},
   "source": [
    " Reflection refers to the ability for code to be able to examine attributes about objects that might be passed as parameters to a function. For example, if we write type(obj) then Python will return an object which represents the type of obj. we need it to reflect the behaviour of data being holded."
   ]
  },
  {
   "cell_type": "markdown",
   "id": "e2f74a77",
   "metadata": {},
   "source": [
    "Q11. What is the _ iadd _ method called?\n",
    "\n"
   ]
  },
  {
   "cell_type": "markdown",
   "id": "65b19f13",
   "metadata": {},
   "source": [
    "So the main difference between add and iadd is that iadd is actually storing that value its adding into the self.value.\n",
    "\n"
   ]
  },
  {
   "cell_type": "code",
   "execution_count": 10,
   "id": "050f8c15",
   "metadata": {},
   "outputs": [
    {
     "name": "stdout",
     "output_type": "stream",
     "text": [
      "0\n",
      "0\n",
      "2\n"
     ]
    }
   ],
   "source": [
    "class NumString:\n",
    "\n",
    "    def __init__(self, value):\n",
    "        self.value = str(value)\n",
    "\n",
    "    def __int__(self):\n",
    "        return int(self.value)\n",
    "\n",
    "    def __str__(self):\n",
    "        return self.value\n",
    "\n",
    "    def __add__(self, other):\n",
    "        return int(self) + other\n",
    "\n",
    "    def __iadd__(self, other):\n",
    "        self.value = self + other\n",
    "        return self.value\n",
    "\n",
    "some_num1 = NumString(0) # Create an instance of NumString with 0 as value.\n",
    "print(str(some_num1)) # Check what is contained within self.value in this instance.\n",
    "\n",
    "some_num1 + 1 # We add some_num1 to 1, this returns back the calculation using the __add__ method\n",
    "print(str(some_num1)) # check what some_num1 is holding for a self.value\n",
    "\n",
    "some_num1 += 2 # We in-place add some_num1 to 2, this stores and returns the new stored value using __iadd__ method.\n",
    "print(str(some_num1)) # check what some_num1 is holding now?\n"
   ]
  },
  {
   "cell_type": "markdown",
   "id": "d301065d",
   "metadata": {},
   "source": [
    "Q12. Is the _ init _ method inherited by subclasses? What do you do if you need to customize its behavior within a subclass?\n",
    "\n"
   ]
  },
  {
   "cell_type": "markdown",
   "id": "b4480c3b",
   "metadata": {},
   "source": [
    "In Python, it is not compulsory that parent class constructor will always be called first. The order in which the init method is called for a parent or a child class can be modified.\n",
    "\n",
    "A subclass can do more than that; it can define a method that has exactly the same method signature (name and argument types) as a method in its superclass. In that case, the method in the subclass overrides the method in the superclass and effectively replaces its implementation."
   ]
  },
  {
   "cell_type": "code",
   "execution_count": null,
   "id": "d5c83dfb",
   "metadata": {},
   "outputs": [],
   "source": []
  }
 ],
 "metadata": {
  "kernelspec": {
   "display_name": "Python 3 (ipykernel)",
   "language": "python",
   "name": "python3"
  },
  "language_info": {
   "codemirror_mode": {
    "name": "ipython",
    "version": 3
   },
   "file_extension": ".py",
   "mimetype": "text/x-python",
   "name": "python",
   "nbconvert_exporter": "python",
   "pygments_lexer": "ipython3",
   "version": "3.11.5"
  }
 },
 "nbformat": 4,
 "nbformat_minor": 5
}
